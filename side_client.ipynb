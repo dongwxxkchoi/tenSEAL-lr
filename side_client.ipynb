{
 "cells": [
  {
   "cell_type": "code",
   "execution_count": 2,
   "id": "initial_id",
   "metadata": {
    "collapsed": true,
    "ExecuteTime": {
     "end_time": "2023-09-19T11:46:16.179267900Z",
     "start_time": "2023-09-19T11:46:12.657113700Z"
    }
   },
   "outputs": [],
   "source": [
    "import torch\n",
    "\n",
    "import numpy as np\n",
    "import pandas as pd\n",
    "import tenseal as ts\n",
    "import base64\n",
    "\n",
    "from sklearn.model_selection import train_test_split\n",
    "from sklearn.metrics import accuracy_score, f1_score, precision_score, recall_score\n",
    "from sklearn.pipeline import Pipeline\n",
    "from sklearn.preprocessing import StandardScaler\n",
    "\n",
    "from time import time\n",
    "from tqdm import tqdm_notebook\n"
   ]
  },
  {
   "cell_type": "markdown",
   "source": [
    "1. sum  \n",
    "2. mean  \n",
    "3. var  \n",
    "4. Linear Regression\n",
    "5. Decision Tree"
   ],
   "metadata": {
    "collapsed": false
   },
   "id": "dc02fdeb3324e3cd"
  },
  {
   "cell_type": "markdown",
   "source": [
    "## Load, Preprocess Dataset - hmeq.csv (Before operation)"
   ],
   "metadata": {
    "collapsed": false
   },
   "id": "163e56fd55a31ce4"
  },
  {
   "cell_type": "code",
   "execution_count": 3,
   "outputs": [],
   "source": [
    "# Loading the dataset\n",
    "df = pd.read_csv(\"data/hmeq.csv\", sep=\",\")\n",
    "\n",
    "# Replacement of NaN variables\n",
    "df['MORTDUE'].fillna(value=df['MORTDUE'].mean(), inplace=True)\n",
    "df['VALUE'].fillna(value=df['VALUE'].mean(), inplace=True)\n",
    "df[\"REASON\"].fillna(value=\"DebtCon\", inplace=True)\n",
    "df[\"JOB\"].fillna(value=\"Other\", inplace=True)\n",
    "df[\"YOJ\"].fillna(value=df['YOJ'].mean(), inplace=True)\n",
    "df[\"DEROG\"].fillna(value=0, inplace=True)\n",
    "df[\"DELINQ\"].fillna(value=0, inplace=True)\n",
    "df['CLAGE'].fillna(value=df['CLAGE'].mean(), inplace=True)\n",
    "df['NINQ'].fillna(value=df['NINQ'].mean(), inplace=True)\n",
    "df['CLNO'].fillna(value=df['CLNO'].mean(), inplace=True)\n",
    "df['CLNO'].fillna(value=df['CLNO'].mean(), inplace=True)\n",
    "df['DEBTINC'].fillna(value=df['DEBTINC'].mean(), inplace=True)\n",
    "df.drop(columns=[\"BAD\", \"JOB\", \"REASON\"])\n",
    "\n",
    "# Checking if there is anything left out\n",
    "assert np.array_equal(df.isnull().sum(), [0] * len(df.isnull().sum()))"
   ],
   "metadata": {
    "collapsed": false,
    "ExecuteTime": {
     "end_time": "2023-09-19T11:46:18.070704100Z",
     "start_time": "2023-09-19T11:46:18.019328200Z"
    }
   },
   "id": "d5b81346d914e159"
  },
  {
   "cell_type": "code",
   "execution_count": 4,
   "outputs": [
    {
     "data": {
      "text/plain": "   BAD  LOAN     MORTDUE          VALUE   REASON     JOB        YOJ  DEROG  \\\n0    1  1100  25860.0000   39025.000000  HomeImp   Other  10.500000    0.0   \n1    1  1300  70053.0000   68400.000000  HomeImp   Other   7.000000    0.0   \n2    1  1500  13500.0000   16700.000000  HomeImp   Other   4.000000    0.0   \n3    1  1500  73760.8172  101776.048741  DebtCon   Other   8.922268    0.0   \n4    0  1700  97800.0000  112000.000000  HomeImp  Office   3.000000    0.0   \n\n   DELINQ       CLAGE      NINQ       CLNO    DEBTINC  \n0     0.0   94.366667  1.000000   9.000000  33.779915  \n1     2.0  121.833333  0.000000  14.000000  33.779915  \n2     0.0  149.466667  1.000000  10.000000  33.779915  \n3     0.0  179.766275  1.186055  21.296096  33.779915  \n4     0.0   93.333333  0.000000  14.000000  33.779915  ",
      "text/html": "<div>\n<style scoped>\n    .dataframe tbody tr th:only-of-type {\n        vertical-align: middle;\n    }\n\n    .dataframe tbody tr th {\n        vertical-align: top;\n    }\n\n    .dataframe thead th {\n        text-align: right;\n    }\n</style>\n<table border=\"1\" class=\"dataframe\">\n  <thead>\n    <tr style=\"text-align: right;\">\n      <th></th>\n      <th>BAD</th>\n      <th>LOAN</th>\n      <th>MORTDUE</th>\n      <th>VALUE</th>\n      <th>REASON</th>\n      <th>JOB</th>\n      <th>YOJ</th>\n      <th>DEROG</th>\n      <th>DELINQ</th>\n      <th>CLAGE</th>\n      <th>NINQ</th>\n      <th>CLNO</th>\n      <th>DEBTINC</th>\n    </tr>\n  </thead>\n  <tbody>\n    <tr>\n      <th>0</th>\n      <td>1</td>\n      <td>1100</td>\n      <td>25860.0000</td>\n      <td>39025.000000</td>\n      <td>HomeImp</td>\n      <td>Other</td>\n      <td>10.500000</td>\n      <td>0.0</td>\n      <td>0.0</td>\n      <td>94.366667</td>\n      <td>1.000000</td>\n      <td>9.000000</td>\n      <td>33.779915</td>\n    </tr>\n    <tr>\n      <th>1</th>\n      <td>1</td>\n      <td>1300</td>\n      <td>70053.0000</td>\n      <td>68400.000000</td>\n      <td>HomeImp</td>\n      <td>Other</td>\n      <td>7.000000</td>\n      <td>0.0</td>\n      <td>2.0</td>\n      <td>121.833333</td>\n      <td>0.000000</td>\n      <td>14.000000</td>\n      <td>33.779915</td>\n    </tr>\n    <tr>\n      <th>2</th>\n      <td>1</td>\n      <td>1500</td>\n      <td>13500.0000</td>\n      <td>16700.000000</td>\n      <td>HomeImp</td>\n      <td>Other</td>\n      <td>4.000000</td>\n      <td>0.0</td>\n      <td>0.0</td>\n      <td>149.466667</td>\n      <td>1.000000</td>\n      <td>10.000000</td>\n      <td>33.779915</td>\n    </tr>\n    <tr>\n      <th>3</th>\n      <td>1</td>\n      <td>1500</td>\n      <td>73760.8172</td>\n      <td>101776.048741</td>\n      <td>DebtCon</td>\n      <td>Other</td>\n      <td>8.922268</td>\n      <td>0.0</td>\n      <td>0.0</td>\n      <td>179.766275</td>\n      <td>1.186055</td>\n      <td>21.296096</td>\n      <td>33.779915</td>\n    </tr>\n    <tr>\n      <th>4</th>\n      <td>0</td>\n      <td>1700</td>\n      <td>97800.0000</td>\n      <td>112000.000000</td>\n      <td>HomeImp</td>\n      <td>Office</td>\n      <td>3.000000</td>\n      <td>0.0</td>\n      <td>0.0</td>\n      <td>93.333333</td>\n      <td>0.000000</td>\n      <td>14.000000</td>\n      <td>33.779915</td>\n    </tr>\n  </tbody>\n</table>\n</div>"
     },
     "execution_count": 4,
     "metadata": {},
     "output_type": "execute_result"
    }
   ],
   "source": [
    "df.head()"
   ],
   "metadata": {
    "collapsed": false,
    "ExecuteTime": {
     "end_time": "2023-09-19T11:46:19.587547300Z",
     "start_time": "2023-09-19T11:46:19.532474Z"
    }
   },
   "id": "3f3eee7e0d0c396a"
  },
  {
   "cell_type": "code",
   "execution_count": 5,
   "outputs": [
    {
     "data": {
      "text/plain": "(5960, 13)"
     },
     "execution_count": 5,
     "metadata": {},
     "output_type": "execute_result"
    }
   ],
   "source": [
    "df.shape"
   ],
   "metadata": {
    "collapsed": false,
    "ExecuteTime": {
     "end_time": "2023-09-19T11:46:20.982276300Z",
     "start_time": "2023-09-19T11:46:20.952104600Z"
    }
   },
   "id": "942166c8f6221209"
  },
  {
   "cell_type": "code",
   "execution_count": 6,
   "outputs": [],
   "source": [
    "# Removing the features BAD, JOB, REASON from the input features set\n",
    "# NUM = 1000\n",
    "x_basic = df.drop(columns=[\"BAD\", \"JOB\", \"REASON\"])\n",
    "y = df[\"BAD\"]"
   ],
   "metadata": {
    "collapsed": false,
    "ExecuteTime": {
     "end_time": "2023-09-19T11:46:22.145143400Z",
     "start_time": "2023-09-19T11:46:22.114608300Z"
    }
   },
   "id": "7c1b38341dcff0ed"
  },
  {
   "cell_type": "code",
   "execution_count": 7,
   "outputs": [],
   "source": [
    "scaler = StandardScaler()\n",
    "x_scaled = scaler.fit_transform(np.array(x_basic))\n",
    "y_scaled = scaler.fit_transform(np.array(y).reshape(-1, 1))"
   ],
   "metadata": {
    "collapsed": false,
    "ExecuteTime": {
     "end_time": "2023-09-19T11:46:22.831500500Z",
     "start_time": "2023-09-19T11:46:22.800660500Z"
    }
   },
   "id": "5c04810451c6f9f2"
  },
  {
   "cell_type": "code",
   "execution_count": 8,
   "outputs": [],
   "source": [
    "outliers = []\n",
    "temp = x_scaled.T\n",
    "for i in range(10):\n",
    "    outliers = outliers + np.where(abs(temp[i]) > 5)[0].tolist()\n",
    "outliers = np.unique(np.array(outliers))"
   ],
   "metadata": {
    "collapsed": false,
    "ExecuteTime": {
     "end_time": "2023-09-19T11:46:23.380933Z",
     "start_time": "2023-09-19T11:46:23.349102200Z"
    }
   },
   "id": "eb6dca40cbf65fc9"
  },
  {
   "cell_type": "code",
   "execution_count": 9,
   "outputs": [],
   "source": [
    "x_scaled = np.delete(x_scaled, outliers, axis=0)\n",
    "y_scaled = np.delete(y_scaled, outliers, axis=0)"
   ],
   "metadata": {
    "collapsed": false,
    "ExecuteTime": {
     "end_time": "2023-09-19T11:46:23.761478600Z",
     "start_time": "2023-09-19T11:46:23.730241500Z"
    }
   },
   "id": "306c6b331603f821"
  },
  {
   "cell_type": "code",
   "execution_count": 10,
   "outputs": [],
   "source": [
    "x_scaled = np.round(x_scaled, 3)\n",
    "y_scaled = np.round(y_scaled, 3)"
   ],
   "metadata": {
    "collapsed": false,
    "ExecuteTime": {
     "end_time": "2023-09-19T11:46:24.516553100Z",
     "start_time": "2023-09-19T11:46:24.475012700Z"
    }
   },
   "id": "da0a432109dd222"
  },
  {
   "cell_type": "code",
   "execution_count": 11,
   "outputs": [],
   "source": [
    "x_train, x_test, y_train, y_test = train_test_split(x_scaled, \n",
    "                                                    y_scaled, \n",
    "                                                    test_size=0.2, \n",
    "                                                    shuffle=True, \n",
    "                                                    stratify=y_scaled, \n",
    "                                                    random_state=42)"
   ],
   "metadata": {
    "collapsed": false,
    "ExecuteTime": {
     "end_time": "2023-09-19T11:46:26.074054100Z",
     "start_time": "2023-09-19T11:46:26.011563800Z"
    }
   },
   "id": "fc35cdc7df332045"
  },
  {
   "cell_type": "code",
   "execution_count": 12,
   "outputs": [
    {
     "name": "stdout",
     "output_type": "stream",
     "text": [
      "(4592, 10)\n",
      "(4592, 1)\n"
     ]
    }
   ],
   "source": [
    "print(x_train.shape)\n",
    "print(y_train.shape)"
   ],
   "metadata": {
    "collapsed": false,
    "ExecuteTime": {
     "end_time": "2023-09-19T11:46:28.132496900Z",
     "start_time": "2023-09-19T11:46:28.096465700Z"
    }
   },
   "id": "42b4df5b5404dc40"
  },
  {
   "cell_type": "markdown",
   "source": [
    "## Initialize Model"
   ],
   "metadata": {
    "collapsed": false
   },
   "id": "5d87642755ebe104"
  },
  {
   "cell_type": "code",
   "execution_count": 14,
   "outputs": [],
   "source": [
    "# To get initial weight and bias\n",
    "# You can also randomly initialize it\n",
    "# But it is comfortable to use torch to get (weight, bias) pair \n",
    "\n",
    "class LR(torch.nn.Module):\n",
    "    def __init__(self, n_features):\n",
    "        super(LR, self).__init__()\n",
    "        self.lr = torch.nn.Linear(n_features, 1)\n",
    "        \n",
    "    def forward(self, x):\n",
    "        out = torch.sigmoid(self.lr(x))\n",
    "        return out"
   ],
   "metadata": {
    "collapsed": false,
    "ExecuteTime": {
     "end_time": "2023-09-19T11:46:36.254759Z",
     "start_time": "2023-09-19T11:46:36.222979800Z"
    }
   },
   "id": "c386c4890889eac5"
  },
  {
   "cell_type": "markdown",
   "source": [
    "## Compile"
   ],
   "metadata": {
    "collapsed": false
   },
   "id": "eb613ff9ce21c3a3"
  },
  {
   "cell_type": "code",
   "execution_count": 15,
   "outputs": [],
   "source": [
    "def write_data(file_name, file_content):\n",
    "    if type(file_content) == bytes:\n",
    "        file_content = base64.b64encode(file_content)\n",
    "        \n",
    "    with open(file_name, 'wb') as f:\n",
    "        f.write(file_content)\n",
    "\n",
    "def read_data(file_name):\n",
    "    with open(file_name, 'rb') as f:\n",
    "        file_content = f.read()\n",
    "    \n",
    "    return base64.b64decode(file_content)"
   ],
   "metadata": {
    "collapsed": false,
    "ExecuteTime": {
     "end_time": "2023-09-19T11:46:37.608872500Z",
     "start_time": "2023-09-19T11:46:37.591249800Z"
    }
   },
   "id": "ece6f920766be02f"
  },
  {
   "cell_type": "code",
   "execution_count": 16,
   "outputs": [],
   "source": [
    "# this function have to be executed in local (before encrypting)\n",
    "\n",
    "def compile(\n",
    "    x, y, write_data # x, y are splitted before premodeling \n",
    "):  \n",
    "    print(\"Making context\")\n",
    "    poly_mod_degree = pow(2, 13)\n",
    "    coeff_mod_bit_sizes = [60, 40, 40, 60]\n",
    "    ctx = ts.context(ts.SCHEME_TYPE.CKKS, poly_mod_degree, -1, coeff_mod_bit_sizes)\n",
    "    ctx.global_scale = 2 ** 40\n",
    "    ctx.generate_galois_keys()\n",
    "    \n",
    "    print(\"Saving context\")\n",
    "    secret_context = ctx.serialize(save_secret_key=True)\n",
    "    write_data(file_name = \"D:/data/customer/secret_context.txt\", \n",
    "               file_content = secret_context)\n",
    "    \n",
    "    ctx.make_context_public()\n",
    "    public_context = ctx.serialize()\n",
    "    write_data(file_name = \"D:/data/server/public_context.txt\", \n",
    "               file_content = public_context)\n",
    "    \n",
    "    print(\"Encrypting datas\")\n",
    "    start_x = time()\n",
    "    enc_x = [ts.CKKSVector(ctx, data.tolist()) for _, data in tqdm_notebook(enumerate(x))]\n",
    "    encoding_x = time() - start_x\n",
    "    \n",
    "    start_y = time()\n",
    "    enc_y = [ts.CKKSVector(ctx, data.tolist()) for _, data in tqdm_notebook(enumerate(y))]\n",
    "    encoding_y = time() - start_y\n",
    "    \n",
    "    print(f\"Data encrypting time x: {encoding_x}, y: {encoding_y} when the data size is {len(enc_x)}\")\n",
    "    \n",
    "    print(\"Saving datas\")\n",
    "    start_saving = time()\n",
    "    for i, data in tqdm_notebook(enumerate(enc_x)):\n",
    "        write_data(file_name=\"D:/data/server/enc_x/enc_x_\"+str(i)+\".txt\",\n",
    "                   file_content=data.serialize())\n",
    "        \n",
    "    for i, data in tqdm_notebook(enumerate(enc_y)):\n",
    "        write_data(file_name=\"D:/data/server/enc_y/enc_y_\"+str(i)+\".txt\",\n",
    "                   file_content=data.serialize())\n",
    "    end_saving = time()\n",
    "    print(f\"Data saving time: {end_saving-start_saving} when the data size is {len(enc_x)}\")\n",
    "    \n",
    "    del ctx, secret_context, public_context, enc_x, enc_y"
   ],
   "metadata": {
    "collapsed": false,
    "ExecuteTime": {
     "end_time": "2023-09-19T11:46:44.516429900Z",
     "start_time": "2023-09-19T11:46:44.484045800Z"
    }
   },
   "id": "ff5bc8b865433a60"
  },
  {
   "cell_type": "code",
   "execution_count": 17,
   "outputs": [
    {
     "name": "stdout",
     "output_type": "stream",
     "text": [
      "Making context\n",
      "Saving context\n",
      "Encrypting datas\n"
     ]
    },
    {
     "name": "stderr",
     "output_type": "stream",
     "text": [
      "C:\\Users\\dwcho\\anaconda3\\envs\\crypto\\lib\\site-packages\\ipykernel_launcher.py:25: TqdmDeprecationWarning: This function will be removed in tqdm==5.0.0\n",
      "Please use `tqdm.notebook.tqdm` instead of `tqdm.tqdm_notebook`\n"
     ]
    },
    {
     "data": {
      "text/plain": "0it [00:00, ?it/s]",
      "application/vnd.jupyter.widget-view+json": {
       "version_major": 2,
       "version_minor": 0,
       "model_id": "38edf0d1d8754116a3ae07ad83dbe699"
      }
     },
     "metadata": {},
     "output_type": "display_data"
    },
    {
     "name": "stderr",
     "output_type": "stream",
     "text": [
      "C:\\Users\\dwcho\\anaconda3\\envs\\crypto\\lib\\site-packages\\ipykernel_launcher.py:29: TqdmDeprecationWarning: This function will be removed in tqdm==5.0.0\n",
      "Please use `tqdm.notebook.tqdm` instead of `tqdm.tqdm_notebook`\n"
     ]
    },
    {
     "data": {
      "text/plain": "0it [00:00, ?it/s]",
      "application/vnd.jupyter.widget-view+json": {
       "version_major": 2,
       "version_minor": 0,
       "model_id": "c587bd31c6204d198330572b3116f001"
      }
     },
     "metadata": {},
     "output_type": "display_data"
    },
    {
     "name": "stdout",
     "output_type": "stream",
     "text": [
      "Data encrypting time x: 22.790180921554565, y: 20.663437366485596 when the data size is 4592\n",
      "Saving datas\n"
     ]
    },
    {
     "name": "stderr",
     "output_type": "stream",
     "text": [
      "C:\\Users\\dwcho\\anaconda3\\envs\\crypto\\lib\\site-packages\\ipykernel_launcher.py:36: TqdmDeprecationWarning: This function will be removed in tqdm==5.0.0\n",
      "Please use `tqdm.notebook.tqdm` instead of `tqdm.tqdm_notebook`\n"
     ]
    },
    {
     "data": {
      "text/plain": "0it [00:00, ?it/s]",
      "application/vnd.jupyter.widget-view+json": {
       "version_major": 2,
       "version_minor": 0,
       "model_id": "604c02f6173d4feebe33492b03f9748a"
      }
     },
     "metadata": {},
     "output_type": "display_data"
    },
    {
     "name": "stderr",
     "output_type": "stream",
     "text": [
      "C:\\Users\\dwcho\\anaconda3\\envs\\crypto\\lib\\site-packages\\ipykernel_launcher.py:40: TqdmDeprecationWarning: This function will be removed in tqdm==5.0.0\n",
      "Please use `tqdm.notebook.tqdm` instead of `tqdm.tqdm_notebook`\n"
     ]
    },
    {
     "data": {
      "text/plain": "0it [00:00, ?it/s]",
      "application/vnd.jupyter.widget-view+json": {
       "version_major": 2,
       "version_minor": 0,
       "model_id": "68d6e6762bfb4d43b15a7e72532c4365"
      }
     },
     "metadata": {},
     "output_type": "display_data"
    },
    {
     "name": "stdout",
     "output_type": "stream",
     "text": [
      "Data saving time: 109.86565828323364 when the data size is 4592\n"
     ]
    }
   ],
   "source": [
    "compile(x=x_train, y=y_train, write_data=write_data)"
   ],
   "metadata": {
    "collapsed": false,
    "ExecuteTime": {
     "end_time": "2023-09-19T11:49:20.356806800Z",
     "start_time": "2023-09-19T11:46:45.601291800Z"
    }
   },
   "id": "e6ed32c0143b3f20"
  },
  {
   "cell_type": "markdown",
   "source": [
    "## Send to Server and Customer  \n",
    "(The rest is ommitted)"
   ],
   "metadata": {
    "collapsed": false
   },
   "id": "70747fb0e46d86bd"
  },
  {
   "cell_type": "markdown",
   "source": [
    "### Train, Test code"
   ],
   "metadata": {
    "collapsed": false
   },
   "id": "bc5f7d67e001cf65"
  },
  {
   "cell_type": "code",
   "execution_count": 25,
   "outputs": [],
   "source": [
    "def test(\n",
    "    model: EncryptedLR, name: str, x_test: np.array, y_test: np.array\n",
    "):\n",
    "    print(f\"Testing {name}\")\n",
    "    \n",
    "    test_start = time()\n",
    "    accuracy = model.plain_accuracy(x_test, y_test)\n",
    "    test_end = time()\n",
    "    \n",
    "    print(f\"Testing time is {test_end - test_start}\")\n",
    "    \n",
    "    return accuracy"
   ],
   "metadata": {
    "collapsed": false,
    "ExecuteTime": {
     "start_time": "2023-09-19T05:54:12.768374Z"
    }
   },
   "id": "8852537d3f8491e"
  },
  {
   "cell_type": "code",
   "execution_count": null,
   "outputs": [],
   "source": [],
   "metadata": {
    "collapsed": false
   },
   "id": "8c7558d1c72150e7"
  },
  {
   "cell_type": "code",
   "execution_count": null,
   "outputs": [],
   "source": [
    "# pylint: disable=too-many-locals\n",
    "\n",
    "\n",
    "def evaluate(\n",
    "    model_class, name, x, y, test_size=0.33, show_circuit=False, predict_in_fhe=True, n_bits=None\n",
    "):\n",
    "    \"\"\"Function to evaluate a model class on a given (x, y). This returns different metrics, notably\n",
    "    in simulate and FHE for Concrete ML models, as well as execution times.\"\"\"\n",
    "\n",
    "    print(f\"Evaluating {name}\")\n",
    "\n",
    "    # Splitting the data into test and train sets. Remark the use of stratify, to make sure that\n",
    "    # the testset contains some representative class distribution in our targets\n",
    "    x_local_tr, x_local_te, y_local_tr, y_local_te = train_test_split(\n",
    "        x, y, stratify=y, test_size=test_size, random_state=1\n",
    "    )\n",
    "    len_x_local_te = len(x_local_te)\n",
    "\n",
    "    # With a normalization\n",
    "    model = Pipeline(\n",
    "        [\n",
    "            (\"preprocessor\", StandardScaler()),\n",
    "            (\"model\", model_class()),\n",
    "        ]\n",
    "    )\n",
    "\n",
    "    # Training\n",
    "    model.fit(x_local_tr, y_local_tr)\n",
    "\n",
    "    # Predicting\n",
    "    before_time = time.time()\n",
    "    y_local_pre = model.predict(x_local_te)\n",
    "    local_t = (time.time() - before_time) / len_x_local_te\n",
    "\n",
    "    local_a = accuracy_score(y_local_te, y_local_pre)\n",
    "    local_f = f1_score(y_local_te, y_local_pre, average=\"macro\")\n",
    "    local_p = precision_score(y_local_te, y_local_pre, average=\"macro\")\n",
    "    local_r = recall_score(y_local_te, y_local_pre, average=\"macro\")\n",
    "\n",
    "    max_bit_width = None\n",
    "    local_a_simulate = None\n",
    "    local_a_fhe = None\n",
    "    local_t_simulate = None\n",
    "    local_t_fhe = None\n",
    "\n",
    "    # For Concrete ML models\n",
    "    if getattr(model_class(), \"_is_a_public_cml_model\", False):\n",
    "        circuit = model[\"model\"].compile(x)  # pylint: disable=no-member\n",
    "\n",
    "        # To see the circuit\n",
    "        if show_circuit:\n",
    "            print(circuit)\n",
    "\n",
    "        # Max bitwidth of the circuit\n",
    "        max_bit_width = circuit.graph.maximum_integer_bit_width()\n",
    "\n",
    "        # Prediction in simulation\n",
    "        before_time = time.time()\n",
    "        y_local_pre_simulate = model.predict(x_local_te, fhe=\"simulate\")\n",
    "        local_t_simulate = (time.time() - before_time) / len_x_local_te\n",
    "\n",
    "        local_a_simulate = accuracy_score(y_local_te, y_local_pre_simulate)\n",
    "\n",
    "        # Prediction in FHE\n",
    "        if predict_in_fhe:\n",
    "            before_time = time.time()\n",
    "            y_local_pre_fhe = model.predict(x_local_te, fhe=\"execute\")\n",
    "            local_t_fhe = (time.time() - before_time) / len_x_local_te\n",
    "\n",
    "            local_a_fhe = accuracy_score(y_local_te, y_local_pre_fhe)\n",
    "\n",
    "    ans = (\n",
    "        name,\n",
    "        local_a,\n",
    "        local_a_simulate,\n",
    "        local_a_fhe,\n",
    "        local_f,\n",
    "        local_p,\n",
    "        local_r,\n",
    "        max_bit_width,\n",
    "        local_t,\n",
    "        local_t_simulate,\n",
    "        local_t_fhe,\n",
    "        len_x_local_te,\n",
    "        n_bits,\n",
    "    )\n",
    "\n",
    "    return ans\n"
   ],
   "metadata": {
    "collapsed": false
   },
   "id": "feff6dc24df7348a"
  },
  {
   "cell_type": "code",
   "execution_count": null,
   "outputs": [],
   "source": [],
   "metadata": {
    "collapsed": false
   },
   "id": "ea332fe896bcb2f1"
  },
  {
   "cell_type": "code",
   "execution_count": null,
   "outputs": [],
   "source": [],
   "metadata": {
    "collapsed": false
   },
   "id": "b7454bed64bfa039"
  },
  {
   "cell_type": "code",
   "execution_count": null,
   "outputs": [],
   "source": [
    "poly_mod_degree = pow(2, 13)\n",
    "coeff_mod_bit_sizes = [60, 40, 40, 60]\n",
    "ctx = ts.context(ts.SCHEME_TYPE.CKKS, poly_mod_degree, -1, coeff_mod_bit_sizes)\n",
    "ctx.global_scale = 2 ** 40\n",
    "ctx.generate_galois_keys()"
   ],
   "metadata": {
    "collapsed": false
   },
   "id": "a4fcd3fba5cbbb8"
  },
  {
   "cell_type": "code",
   "execution_count": 4,
   "outputs": [
    {
     "data": {
      "text/plain": "      BAD   LOAN  MORTDUE     VALUE   REASON     JOB   YOJ  DEROG  DELINQ  \\\n0       1   1100  25860.0   39025.0  HomeImp   Other  10.5    0.0     0.0   \n1       1   1300  70053.0   68400.0  HomeImp   Other   7.0    0.0     2.0   \n2       1   1500  13500.0   16700.0  HomeImp   Other   4.0    0.0     0.0   \n3       1   1500      NaN       NaN      NaN     NaN   NaN    NaN     NaN   \n4       0   1700  97800.0  112000.0  HomeImp  Office   3.0    0.0     0.0   \n...   ...    ...      ...       ...      ...     ...   ...    ...     ...   \n5955    0  88900  57264.0   90185.0  DebtCon   Other  16.0    0.0     0.0   \n5956    0  89000  54576.0   92937.0  DebtCon   Other  16.0    0.0     0.0   \n5957    0  89200  54045.0   92924.0  DebtCon   Other  15.0    0.0     0.0   \n5958    0  89800  50370.0   91861.0  DebtCon   Other  14.0    0.0     0.0   \n5959    0  89900  48811.0   88934.0  DebtCon   Other  15.0    0.0     0.0   \n\n           CLAGE  NINQ  CLNO    DEBTINC  \n0      94.366667   1.0   9.0        NaN  \n1     121.833333   0.0  14.0        NaN  \n2     149.466667   1.0  10.0        NaN  \n3            NaN   NaN   NaN        NaN  \n4      93.333333   0.0  14.0        NaN  \n...          ...   ...   ...        ...  \n5955  221.808718   0.0  16.0  36.112347  \n5956  208.692070   0.0  15.0  35.859971  \n5957  212.279697   0.0  15.0  35.556590  \n5958  213.892709   0.0  16.0  34.340882  \n5959  219.601002   0.0  16.0  34.571519  \n\n[5960 rows x 13 columns]",
      "text/html": "<div>\n<style scoped>\n    .dataframe tbody tr th:only-of-type {\n        vertical-align: middle;\n    }\n\n    .dataframe tbody tr th {\n        vertical-align: top;\n    }\n\n    .dataframe thead th {\n        text-align: right;\n    }\n</style>\n<table border=\"1\" class=\"dataframe\">\n  <thead>\n    <tr style=\"text-align: right;\">\n      <th></th>\n      <th>BAD</th>\n      <th>LOAN</th>\n      <th>MORTDUE</th>\n      <th>VALUE</th>\n      <th>REASON</th>\n      <th>JOB</th>\n      <th>YOJ</th>\n      <th>DEROG</th>\n      <th>DELINQ</th>\n      <th>CLAGE</th>\n      <th>NINQ</th>\n      <th>CLNO</th>\n      <th>DEBTINC</th>\n    </tr>\n  </thead>\n  <tbody>\n    <tr>\n      <th>0</th>\n      <td>1</td>\n      <td>1100</td>\n      <td>25860.0</td>\n      <td>39025.0</td>\n      <td>HomeImp</td>\n      <td>Other</td>\n      <td>10.5</td>\n      <td>0.0</td>\n      <td>0.0</td>\n      <td>94.366667</td>\n      <td>1.0</td>\n      <td>9.0</td>\n      <td>NaN</td>\n    </tr>\n    <tr>\n      <th>1</th>\n      <td>1</td>\n      <td>1300</td>\n      <td>70053.0</td>\n      <td>68400.0</td>\n      <td>HomeImp</td>\n      <td>Other</td>\n      <td>7.0</td>\n      <td>0.0</td>\n      <td>2.0</td>\n      <td>121.833333</td>\n      <td>0.0</td>\n      <td>14.0</td>\n      <td>NaN</td>\n    </tr>\n    <tr>\n      <th>2</th>\n      <td>1</td>\n      <td>1500</td>\n      <td>13500.0</td>\n      <td>16700.0</td>\n      <td>HomeImp</td>\n      <td>Other</td>\n      <td>4.0</td>\n      <td>0.0</td>\n      <td>0.0</td>\n      <td>149.466667</td>\n      <td>1.0</td>\n      <td>10.0</td>\n      <td>NaN</td>\n    </tr>\n    <tr>\n      <th>3</th>\n      <td>1</td>\n      <td>1500</td>\n      <td>NaN</td>\n      <td>NaN</td>\n      <td>NaN</td>\n      <td>NaN</td>\n      <td>NaN</td>\n      <td>NaN</td>\n      <td>NaN</td>\n      <td>NaN</td>\n      <td>NaN</td>\n      <td>NaN</td>\n      <td>NaN</td>\n    </tr>\n    <tr>\n      <th>4</th>\n      <td>0</td>\n      <td>1700</td>\n      <td>97800.0</td>\n      <td>112000.0</td>\n      <td>HomeImp</td>\n      <td>Office</td>\n      <td>3.0</td>\n      <td>0.0</td>\n      <td>0.0</td>\n      <td>93.333333</td>\n      <td>0.0</td>\n      <td>14.0</td>\n      <td>NaN</td>\n    </tr>\n    <tr>\n      <th>...</th>\n      <td>...</td>\n      <td>...</td>\n      <td>...</td>\n      <td>...</td>\n      <td>...</td>\n      <td>...</td>\n      <td>...</td>\n      <td>...</td>\n      <td>...</td>\n      <td>...</td>\n      <td>...</td>\n      <td>...</td>\n      <td>...</td>\n    </tr>\n    <tr>\n      <th>5955</th>\n      <td>0</td>\n      <td>88900</td>\n      <td>57264.0</td>\n      <td>90185.0</td>\n      <td>DebtCon</td>\n      <td>Other</td>\n      <td>16.0</td>\n      <td>0.0</td>\n      <td>0.0</td>\n      <td>221.808718</td>\n      <td>0.0</td>\n      <td>16.0</td>\n      <td>36.112347</td>\n    </tr>\n    <tr>\n      <th>5956</th>\n      <td>0</td>\n      <td>89000</td>\n      <td>54576.0</td>\n      <td>92937.0</td>\n      <td>DebtCon</td>\n      <td>Other</td>\n      <td>16.0</td>\n      <td>0.0</td>\n      <td>0.0</td>\n      <td>208.692070</td>\n      <td>0.0</td>\n      <td>15.0</td>\n      <td>35.859971</td>\n    </tr>\n    <tr>\n      <th>5957</th>\n      <td>0</td>\n      <td>89200</td>\n      <td>54045.0</td>\n      <td>92924.0</td>\n      <td>DebtCon</td>\n      <td>Other</td>\n      <td>15.0</td>\n      <td>0.0</td>\n      <td>0.0</td>\n      <td>212.279697</td>\n      <td>0.0</td>\n      <td>15.0</td>\n      <td>35.556590</td>\n    </tr>\n    <tr>\n      <th>5958</th>\n      <td>0</td>\n      <td>89800</td>\n      <td>50370.0</td>\n      <td>91861.0</td>\n      <td>DebtCon</td>\n      <td>Other</td>\n      <td>14.0</td>\n      <td>0.0</td>\n      <td>0.0</td>\n      <td>213.892709</td>\n      <td>0.0</td>\n      <td>16.0</td>\n      <td>34.340882</td>\n    </tr>\n    <tr>\n      <th>5959</th>\n      <td>0</td>\n      <td>89900</td>\n      <td>48811.0</td>\n      <td>88934.0</td>\n      <td>DebtCon</td>\n      <td>Other</td>\n      <td>15.0</td>\n      <td>0.0</td>\n      <td>0.0</td>\n      <td>219.601002</td>\n      <td>0.0</td>\n      <td>16.0</td>\n      <td>34.571519</td>\n    </tr>\n  </tbody>\n</table>\n<p>5960 rows × 13 columns</p>\n</div>"
     },
     "execution_count": 4,
     "metadata": {},
     "output_type": "execute_result"
    }
   ],
   "source": [
    "df"
   ],
   "metadata": {
    "collapsed": false,
    "ExecuteTime": {
     "end_time": "2023-09-19T04:53:10.101321100Z",
     "start_time": "2023-09-19T04:53:10.038823500Z"
    }
   },
   "id": "d3d33fe59add602d"
  },
  {
   "cell_type": "code",
   "execution_count": 14,
   "outputs": [],
   "source": [
    "sk = ctx.secret_key()\n",
    "pk = ctx.public_key()"
   ],
   "metadata": {
    "collapsed": false,
    "ExecuteTime": {
     "end_time": "2023-09-18T08:32:59.602033700Z",
     "start_time": "2023-09-18T08:32:59.579772400Z"
    }
   },
   "id": "d6ab0ae855c80d10"
  },
  {
   "cell_type": "markdown",
   "source": [
    "### Data Preprocessing"
   ],
   "metadata": {
    "collapsed": false
   },
   "id": "58cb600396466bc4"
  },
  {
   "cell_type": "code",
   "execution_count": 15,
   "outputs": [
    {
     "name": "stdout",
     "output_type": "stream",
     "text": [
      "     PassengerId  Survived  Pclass  \\\n",
      "1              2         1       1   \n",
      "3              4         1       1   \n",
      "6              7         0       1   \n",
      "10            11         1       3   \n",
      "11            12         1       1   \n",
      "..           ...       ...     ...   \n",
      "871          872         1       1   \n",
      "872          873         0       1   \n",
      "879          880         1       1   \n",
      "887          888         1       1   \n",
      "889          890         1       1   \n",
      "\n",
      "                                                  Name     Sex   Age  SibSp  \\\n",
      "1    Cumings, Mrs. John Bradley (Florence Briggs Th...  female  38.0      1   \n",
      "3         Futrelle, Mrs. Jacques Heath (Lily May Peel)  female  35.0      1   \n",
      "6                              McCarthy, Mr. Timothy J    male  54.0      0   \n",
      "10                     Sandstrom, Miss. Marguerite Rut  female   4.0      1   \n",
      "11                            Bonnell, Miss. Elizabeth  female  58.0      0   \n",
      "..                                                 ...     ...   ...    ...   \n",
      "871   Beckwith, Mrs. Richard Leonard (Sallie Monypeny)  female  47.0      1   \n",
      "872                           Carlsson, Mr. Frans Olof    male  33.0      0   \n",
      "879      Potter, Mrs. Thomas Jr (Lily Alexenia Wilson)  female  56.0      0   \n",
      "887                       Graham, Miss. Margaret Edith  female  19.0      0   \n",
      "889                              Behr, Mr. Karl Howell    male  26.0      0   \n",
      "\n",
      "     Parch    Ticket     Fare        Cabin Embarked  \n",
      "1        0  PC 17599  71.2833          C85        C  \n",
      "3        0    113803  53.1000         C123        S  \n",
      "6        0     17463  51.8625          E46        S  \n",
      "10       1   PP 9549  16.7000           G6        S  \n",
      "11       0    113783  26.5500         C103        S  \n",
      "..     ...       ...      ...          ...      ...  \n",
      "871      1     11751  52.5542          D35        S  \n",
      "872      0       695   5.0000  B51 B53 B55        S  \n",
      "879      1     11767  83.1583          C50        C  \n",
      "887      0    112053  30.0000          B42        S  \n",
      "889      0    111369  30.0000         C148        C  \n",
      "\n",
      "[183 rows x 12 columns]\n"
     ]
    }
   ],
   "source": [
    "df = df.dropna()\n",
    "label = df['Survived']\n",
    "df = df.drop('Survived', axis=1)"
   ],
   "metadata": {
    "collapsed": false,
    "ExecuteTime": {
     "end_time": "2023-09-18T08:33:00.556760Z",
     "start_time": "2023-09-18T08:33:00.524809900Z"
    }
   },
   "id": "96d6d117a1b6c21b"
  },
  {
   "cell_type": "code",
   "execution_count": 18,
   "outputs": [
    {
     "data": {
      "text/plain": "     Name_Allen, Miss. Elisabeth Walton  Name_Allison, Master. Hudson Trevor  \\\n1                                     0                                    0   \n3                                     0                                    0   \n6                                     0                                    0   \n10                                    0                                    0   \n11                                    0                                    0   \n..                                  ...                                  ...   \n871                                   0                                    0   \n872                                   0                                    0   \n879                                   0                                    0   \n887                                   0                                    0   \n889                                   0                                    0   \n\n     Name_Allison, Miss. Helen Loraine  \\\n1                                    0   \n3                                    0   \n6                                    0   \n10                                   0   \n11                                   0   \n..                                 ...   \n871                                  0   \n872                                  0   \n879                                  0   \n887                                  0   \n889                                  0   \n\n     Name_Allison, Mrs. Hudson J C (Bessie Waldo Daniels)  \\\n1                                                    0      \n3                                                    0      \n6                                                    0      \n10                                                   0      \n11                                                   0      \n..                                                 ...      \n871                                                  0      \n872                                                  0      \n879                                                  0      \n887                                                  0      \n889                                                  0      \n\n     Name_Anderson, Mr. Harry  Name_Andrews, Miss. Kornelia Theodosia  \\\n1                           0                                       0   \n3                           0                                       0   \n6                           0                                       0   \n10                          0                                       0   \n11                          0                                       0   \n..                        ...                                     ...   \n871                         0                                       0   \n872                         0                                       0   \n879                         0                                       0   \n887                         0                                       0   \n889                         0                                       0   \n\n     Name_Andrews, Mr. Thomas Jr  \\\n1                              0   \n3                              0   \n6                              0   \n10                             0   \n11                             0   \n..                           ...   \n871                            0   \n872                            0   \n879                            0   \n887                            0   \n889                            0   \n\n     Name_Appleton, Mrs. Edward Dale (Charlotte Lamson)  \\\n1                                                    0    \n3                                                    0    \n6                                                    0    \n10                                                   0    \n11                                                   0    \n..                                                 ...    \n871                                                  0    \n872                                                  0    \n879                                                  0    \n887                                                  0    \n889                                                  0    \n\n     Name_Astor, Mrs. John Jacob (Madeleine Talmadge Force)  \\\n1                                                    0        \n3                                                    0        \n6                                                    0        \n10                                                   0        \n11                                                   0        \n..                                                 ...        \n871                                                  0        \n872                                                  0        \n879                                                  0        \n887                                                  0        \n889                                                  0        \n\n     Name_Aubart, Mme. Leontine Pauline  ...  Cabin_F G63  Cabin_F G73  \\\n1                                     0  ...            0            0   \n3                                     0  ...            0            0   \n6                                     0  ...            0            0   \n10                                    0  ...            0            0   \n11                                    0  ...            0            0   \n..                                  ...  ...          ...          ...   \n871                                   0  ...            0            0   \n872                                   0  ...            0            0   \n879                                   0  ...            0            0   \n887                                   0  ...            0            0   \n889                                   0  ...            0            0   \n\n     Cabin_F2  Cabin_F33  Cabin_F4  Cabin_G6  Cabin_T  Embarked_C  Embarked_Q  \\\n1           0          0         0         0        0           1           0   \n3           0          0         0         0        0           0           0   \n6           0          0         0         0        0           0           0   \n10          0          0         0         1        0           0           0   \n11          0          0         0         0        0           0           0   \n..        ...        ...       ...       ...      ...         ...         ...   \n871         0          0         0         0        0           0           0   \n872         0          0         0         0        0           0           0   \n879         0          0         0         0        0           1           0   \n887         0          0         0         0        0           0           0   \n889         0          0         0         0        0           1           0   \n\n     Embarked_S  \n1             0  \n3             1  \n6             1  \n10            1  \n11            1  \n..          ...  \n871           1  \n872           1  \n879           0  \n887           1  \n889           0  \n\n[183 rows x 448 columns]",
      "text/html": "<div>\n<style scoped>\n    .dataframe tbody tr th:only-of-type {\n        vertical-align: middle;\n    }\n\n    .dataframe tbody tr th {\n        vertical-align: top;\n    }\n\n    .dataframe thead th {\n        text-align: right;\n    }\n</style>\n<table border=\"1\" class=\"dataframe\">\n  <thead>\n    <tr style=\"text-align: right;\">\n      <th></th>\n      <th>Name_Allen, Miss. Elisabeth Walton</th>\n      <th>Name_Allison, Master. Hudson Trevor</th>\n      <th>Name_Allison, Miss. Helen Loraine</th>\n      <th>Name_Allison, Mrs. Hudson J C (Bessie Waldo Daniels)</th>\n      <th>Name_Anderson, Mr. Harry</th>\n      <th>Name_Andrews, Miss. Kornelia Theodosia</th>\n      <th>Name_Andrews, Mr. Thomas Jr</th>\n      <th>Name_Appleton, Mrs. Edward Dale (Charlotte Lamson)</th>\n      <th>Name_Astor, Mrs. John Jacob (Madeleine Talmadge Force)</th>\n      <th>Name_Aubart, Mme. Leontine Pauline</th>\n      <th>...</th>\n      <th>Cabin_F G63</th>\n      <th>Cabin_F G73</th>\n      <th>Cabin_F2</th>\n      <th>Cabin_F33</th>\n      <th>Cabin_F4</th>\n      <th>Cabin_G6</th>\n      <th>Cabin_T</th>\n      <th>Embarked_C</th>\n      <th>Embarked_Q</th>\n      <th>Embarked_S</th>\n    </tr>\n  </thead>\n  <tbody>\n    <tr>\n      <th>1</th>\n      <td>0</td>\n      <td>0</td>\n      <td>0</td>\n      <td>0</td>\n      <td>0</td>\n      <td>0</td>\n      <td>0</td>\n      <td>0</td>\n      <td>0</td>\n      <td>0</td>\n      <td>...</td>\n      <td>0</td>\n      <td>0</td>\n      <td>0</td>\n      <td>0</td>\n      <td>0</td>\n      <td>0</td>\n      <td>0</td>\n      <td>1</td>\n      <td>0</td>\n      <td>0</td>\n    </tr>\n    <tr>\n      <th>3</th>\n      <td>0</td>\n      <td>0</td>\n      <td>0</td>\n      <td>0</td>\n      <td>0</td>\n      <td>0</td>\n      <td>0</td>\n      <td>0</td>\n      <td>0</td>\n      <td>0</td>\n      <td>...</td>\n      <td>0</td>\n      <td>0</td>\n      <td>0</td>\n      <td>0</td>\n      <td>0</td>\n      <td>0</td>\n      <td>0</td>\n      <td>0</td>\n      <td>0</td>\n      <td>1</td>\n    </tr>\n    <tr>\n      <th>6</th>\n      <td>0</td>\n      <td>0</td>\n      <td>0</td>\n      <td>0</td>\n      <td>0</td>\n      <td>0</td>\n      <td>0</td>\n      <td>0</td>\n      <td>0</td>\n      <td>0</td>\n      <td>...</td>\n      <td>0</td>\n      <td>0</td>\n      <td>0</td>\n      <td>0</td>\n      <td>0</td>\n      <td>0</td>\n      <td>0</td>\n      <td>0</td>\n      <td>0</td>\n      <td>1</td>\n    </tr>\n    <tr>\n      <th>10</th>\n      <td>0</td>\n      <td>0</td>\n      <td>0</td>\n      <td>0</td>\n      <td>0</td>\n      <td>0</td>\n      <td>0</td>\n      <td>0</td>\n      <td>0</td>\n      <td>0</td>\n      <td>...</td>\n      <td>0</td>\n      <td>0</td>\n      <td>0</td>\n      <td>0</td>\n      <td>0</td>\n      <td>1</td>\n      <td>0</td>\n      <td>0</td>\n      <td>0</td>\n      <td>1</td>\n    </tr>\n    <tr>\n      <th>11</th>\n      <td>0</td>\n      <td>0</td>\n      <td>0</td>\n      <td>0</td>\n      <td>0</td>\n      <td>0</td>\n      <td>0</td>\n      <td>0</td>\n      <td>0</td>\n      <td>0</td>\n      <td>...</td>\n      <td>0</td>\n      <td>0</td>\n      <td>0</td>\n      <td>0</td>\n      <td>0</td>\n      <td>0</td>\n      <td>0</td>\n      <td>0</td>\n      <td>0</td>\n      <td>1</td>\n    </tr>\n    <tr>\n      <th>...</th>\n      <td>...</td>\n      <td>...</td>\n      <td>...</td>\n      <td>...</td>\n      <td>...</td>\n      <td>...</td>\n      <td>...</td>\n      <td>...</td>\n      <td>...</td>\n      <td>...</td>\n      <td>...</td>\n      <td>...</td>\n      <td>...</td>\n      <td>...</td>\n      <td>...</td>\n      <td>...</td>\n      <td>...</td>\n      <td>...</td>\n      <td>...</td>\n      <td>...</td>\n      <td>...</td>\n    </tr>\n    <tr>\n      <th>871</th>\n      <td>0</td>\n      <td>0</td>\n      <td>0</td>\n      <td>0</td>\n      <td>0</td>\n      <td>0</td>\n      <td>0</td>\n      <td>0</td>\n      <td>0</td>\n      <td>0</td>\n      <td>...</td>\n      <td>0</td>\n      <td>0</td>\n      <td>0</td>\n      <td>0</td>\n      <td>0</td>\n      <td>0</td>\n      <td>0</td>\n      <td>0</td>\n      <td>0</td>\n      <td>1</td>\n    </tr>\n    <tr>\n      <th>872</th>\n      <td>0</td>\n      <td>0</td>\n      <td>0</td>\n      <td>0</td>\n      <td>0</td>\n      <td>0</td>\n      <td>0</td>\n      <td>0</td>\n      <td>0</td>\n      <td>0</td>\n      <td>...</td>\n      <td>0</td>\n      <td>0</td>\n      <td>0</td>\n      <td>0</td>\n      <td>0</td>\n      <td>0</td>\n      <td>0</td>\n      <td>0</td>\n      <td>0</td>\n      <td>1</td>\n    </tr>\n    <tr>\n      <th>879</th>\n      <td>0</td>\n      <td>0</td>\n      <td>0</td>\n      <td>0</td>\n      <td>0</td>\n      <td>0</td>\n      <td>0</td>\n      <td>0</td>\n      <td>0</td>\n      <td>0</td>\n      <td>...</td>\n      <td>0</td>\n      <td>0</td>\n      <td>0</td>\n      <td>0</td>\n      <td>0</td>\n      <td>0</td>\n      <td>0</td>\n      <td>1</td>\n      <td>0</td>\n      <td>0</td>\n    </tr>\n    <tr>\n      <th>887</th>\n      <td>0</td>\n      <td>0</td>\n      <td>0</td>\n      <td>0</td>\n      <td>0</td>\n      <td>0</td>\n      <td>0</td>\n      <td>0</td>\n      <td>0</td>\n      <td>0</td>\n      <td>...</td>\n      <td>0</td>\n      <td>0</td>\n      <td>0</td>\n      <td>0</td>\n      <td>0</td>\n      <td>0</td>\n      <td>0</td>\n      <td>0</td>\n      <td>0</td>\n      <td>1</td>\n    </tr>\n    <tr>\n      <th>889</th>\n      <td>0</td>\n      <td>0</td>\n      <td>0</td>\n      <td>0</td>\n      <td>0</td>\n      <td>0</td>\n      <td>0</td>\n      <td>0</td>\n      <td>0</td>\n      <td>0</td>\n      <td>...</td>\n      <td>0</td>\n      <td>0</td>\n      <td>0</td>\n      <td>0</td>\n      <td>0</td>\n      <td>0</td>\n      <td>0</td>\n      <td>1</td>\n      <td>0</td>\n      <td>0</td>\n    </tr>\n  </tbody>\n</table>\n<p>183 rows × 448 columns</p>\n</div>"
     },
     "execution_count": 18,
     "metadata": {},
     "output_type": "execute_result"
    }
   ],
   "source": [],
   "metadata": {
    "collapsed": false,
    "ExecuteTime": {
     "end_time": "2023-09-18T08:33:37.523691700Z",
     "start_time": "2023-09-18T08:33:37.455302700Z"
    }
   },
   "id": "758d7841e299aa9"
  },
  {
   "cell_type": "code",
   "execution_count": 16,
   "outputs": [
    {
     "name": "stdout",
     "output_type": "stream",
     "text": [
      "<class 'pandas.core.frame.DataFrame'>\n",
      "Int64Index: 183 entries, 1 to 889\n",
      "Columns: 454 entries, PassengerId to Embarked_S\n",
      "dtypes: float64(2), int64(4), uint8(448)\n",
      "memory usage: 90.1 KB\n",
      "None\n"
     ]
    }
   ],
   "source": [
    "obj_cols = [col for col in df.columns if df[col].dtypes=='object']\n",
    "encoded_df = pd.get_dummies(df[obj_cols])\n",
    "df = df.drop(obj_cols, axis=1)\n",
    "df = pd.concat([df, encoded_df], axis=1)\n",
    "df = torch.tensor(df.values)"
   ],
   "metadata": {
    "collapsed": false,
    "ExecuteTime": {
     "end_time": "2023-09-18T08:33:08.147736Z",
     "start_time": "2023-09-18T08:33:08.096647500Z"
    }
   },
   "id": "222c09fa9a51797f"
  },
  {
   "cell_type": "code",
   "execution_count": null,
   "outputs": [],
   "source": [
    "from sklearn.preprocessing import LabelEncoder\n",
    "\n",
    "le = LabelEncoder()\n",
    "le.fit(label)\n",
    "label = le.transform(label)\n",
    "label = torch.tensor(label).unsqueeze(1).float()"
   ],
   "metadata": {
    "collapsed": false,
    "ExecuteTime": {
     "start_time": "2023-09-18T08:31:56.531149800Z"
    }
   },
   "id": "1b373b8ef954f66d"
  },
  {
   "cell_type": "code",
   "execution_count": 6,
   "outputs": [],
   "source": [
    "class LR(torch.nn.Module):\n",
    "\n",
    "    def __init__(self, n_features):\n",
    "        super(LR, self).__init__()\n",
    "        self.lr = torch.nn.Linear(n_features, 1)\n",
    "        \n",
    "    def forward(self, x):\n",
    "        out = torch.sigmoid(self.lr(x))\n",
    "        return out"
   ],
   "metadata": {
    "collapsed": false,
    "ExecuteTime": {
     "end_time": "2023-09-18T08:31:57.445173900Z",
     "start_time": "2023-09-18T08:31:57.426965Z"
    }
   },
   "id": "63682ae01e3db875"
  },
  {
   "cell_type": "code",
   "execution_count": 7,
   "outputs": [],
   "source": [
    "class EncryptedLR:\n",
    "    def __init__(self, torch_lr):\n",
    "        self.weight = torch_lr.lr.weight.data.tolist()[0]  # shape이 1xN이 되서 N으로 바꿔줌\n",
    "        self.bias = torch_lr.lr.bias.data.tolist()\n",
    "\n",
    "        self._delta_w = 0\n",
    "        self._delta_b = 0\n",
    "        self._count = 0\n",
    "\n",
    "    def forward(self, enc_x):\n",
    "        # forward propagation\n",
    "        enc_out = enc_x.dot(self.weight) + self.bias\n",
    "        print(type(enc_out))\n",
    "        enc_out = EncryptedLR.sigmoid(enc_out)\n",
    "        return enc_out\n",
    "\n",
    "    def backward(self, enc_x, enc_out, enc_y):\n",
    "        # backward propagation\n",
    "        out_minus_y = (enc_out - enc_y)\n",
    "        self._delta_w += enc_x * out_minus_y\n",
    "        self._delta_b += out_minus_y\n",
    "        self._count += 1\n",
    "\n",
    "    def update_parameters(self):\n",
    "        # optimizer\n",
    "        if self._count == 0:\n",
    "            raise RuntimeError(\"You should at least run one forward iteration\")\n",
    "\n",
    "        self.weight -= self._delta_w * (1 / self._count) + self.weight * 0.05  # regularization\n",
    "        # 1 / self._count => means learning_rate decay in optimization\n",
    "        self.bias -= self._delta_b * (1 / self._count)\n",
    "        self._delta_w = 0\n",
    "        self._delta_b = 0\n",
    "        # self._count = 0 # count?\n",
    "\n",
    "    @staticmethod\n",
    "    def sigmoid(enc_x):\n",
    "        return enc_x.polyval([0.5, 0.197, 0, -0.004])\n",
    "\n",
    "    def plain_accuracy(self, x_test, y_test):\n",
    "        w = torch.tensor(self.weight)\n",
    "        b = torch.tensor(self.bias)\n",
    "        out = torch.sigmoid(x_test.matmul(w) + b).reshape(-1, 1)\n",
    "        correct = torch.abs(y_test - out) < 0.5\n",
    "        return correct.float().mean()\n",
    "\n",
    "    def encrypt(self, context):\n",
    "        self.weight = ts.ckks_vector(context, self.weight)\n",
    "        self.bias = ts.ckks_vector(context, self.bias)\n",
    "\n",
    "    def decrypt(self):\n",
    "        self.weight = self.weight.decrypt()\n",
    "        self.bias = self.bias.decrypt()\n",
    "\n",
    "    def __call__(self, *args, **kwargs):\n",
    "        return self.forward(*args, **kwargs)"
   ],
   "metadata": {
    "collapsed": false,
    "ExecuteTime": {
     "end_time": "2023-09-18T08:31:57.829626500Z",
     "start_time": "2023-09-18T08:31:57.813481400Z"
    }
   },
   "id": "eceaa2e5ff24ad74"
  },
  {
   "cell_type": "code",
   "execution_count": 8,
   "outputs": [
    {
     "ename": "NameError",
     "evalue": "name 'label' is not defined",
     "output_type": "error",
     "traceback": [
      "\u001B[1;31m---------------------------------------------------------------------------\u001B[0m",
      "\u001B[1;31mNameError\u001B[0m                                 Traceback (most recent call last)",
      "\u001B[1;32m<ipython-input-8-c326c108f839>\u001B[0m in \u001B[0;36m<module>\u001B[1;34m\u001B[0m\n\u001B[1;32m----> 1\u001B[1;33m \u001B[0mx_train\u001B[0m\u001B[1;33m,\u001B[0m \u001B[0mx_test\u001B[0m\u001B[1;33m,\u001B[0m \u001B[0my_train\u001B[0m\u001B[1;33m,\u001B[0m \u001B[0my_test\u001B[0m \u001B[1;33m=\u001B[0m \u001B[0mtrain_test_split\u001B[0m\u001B[1;33m(\u001B[0m\u001B[0mdf\u001B[0m\u001B[1;33m,\u001B[0m \u001B[0mlabel\u001B[0m\u001B[1;33m,\u001B[0m \u001B[0mtest_size\u001B[0m\u001B[1;33m=\u001B[0m\u001B[1;36m0.2\u001B[0m\u001B[1;33m,\u001B[0m \u001B[0mrandom_state\u001B[0m\u001B[1;33m=\u001B[0m\u001B[1;36m42\u001B[0m\u001B[1;33m,\u001B[0m \u001B[0mstratify\u001B[0m\u001B[1;33m=\u001B[0m\u001B[0mlabel\u001B[0m\u001B[1;33m)\u001B[0m\u001B[1;33m\u001B[0m\u001B[0m\n\u001B[0m",
      "\u001B[1;31mNameError\u001B[0m: name 'label' is not defined"
     ]
    }
   ],
   "source": [
    "x_train, x_test, y_train, y_test = train_test_split(df, label, test_size=0.2, random_state=42, stratify=label)"
   ],
   "metadata": {
    "collapsed": false,
    "ExecuteTime": {
     "end_time": "2023-09-18T08:32:04.350442500Z",
     "start_time": "2023-09-18T08:32:04.289582300Z"
    }
   },
   "id": "4d8afd22420bbcc1"
  },
  {
   "cell_type": "code",
   "execution_count": null,
   "outputs": [
    {
     "name": "stderr",
     "output_type": "stream",
     "text": [
      "C:\\Users\\dwcho\\anaconda3\\envs\\crypto\\lib\\site-packages\\ipykernel_launcher.py:2: TqdmDeprecationWarning: This function will be removed in tqdm==5.0.0\n",
      "Please use `tqdm.notebook.tqdm` instead of `tqdm.tqdm_notebook`\n",
      "  \n"
     ]
    },
    {
     "data": {
      "text/plain": "0it [00:00, ?it/s]",
      "application/vnd.jupyter.widget-view+json": {
       "version_major": 2,
       "version_minor": 0,
       "model_id": "bf3fb39c4cbb4ce1854b4a03f92455e4"
      }
     },
     "metadata": {},
     "output_type": "display_data"
    }
   ],
   "source": [
    "start_x = time()\n",
    "enc_x_train = [ts.CKKSVector(ctx, x.tolist()) for i, x in tqdm_notebook(enumerate(x_train))]\n",
    "end_x = time()\n",
    "\n",
    "encryption_time_x = end_x - start_x"
   ],
   "metadata": {
    "collapsed": false,
    "ExecuteTime": {
     "start_time": "2023-09-18T04:32:13.337624200Z"
    }
   },
   "id": "b90343b95d25c926"
  },
  {
   "cell_type": "code",
   "execution_count": 1,
   "outputs": [
    {
     "ename": "NameError",
     "evalue": "name 'time' is not defined",
     "output_type": "error",
     "traceback": [
      "\u001B[1;31m---------------------------------------------------------------------------\u001B[0m",
      "\u001B[1;31mNameError\u001B[0m                                 Traceback (most recent call last)",
      "\u001B[1;32m<ipython-input-1-ed9ebe557c1a>\u001B[0m in \u001B[0;36m<module>\u001B[1;34m\u001B[0m\n\u001B[1;32m----> 1\u001B[1;33m \u001B[0mstart_y\u001B[0m \u001B[1;33m=\u001B[0m \u001B[0mtime\u001B[0m\u001B[1;33m(\u001B[0m\u001B[1;33m)\u001B[0m\u001B[1;33m\u001B[0m\u001B[0m\n\u001B[0m\u001B[0;32m      2\u001B[0m \u001B[0menc_y_train\u001B[0m \u001B[1;33m=\u001B[0m \u001B[1;33m[\u001B[0m\u001B[0mts\u001B[0m\u001B[1;33m.\u001B[0m\u001B[0mCKKSVector\u001B[0m\u001B[1;33m(\u001B[0m\u001B[0mctx\u001B[0m\u001B[1;33m,\u001B[0m \u001B[1;33m[\u001B[0m\u001B[0my\u001B[0m\u001B[1;33m]\u001B[0m\u001B[1;33m)\u001B[0m \u001B[1;32mfor\u001B[0m \u001B[0mi\u001B[0m\u001B[1;33m,\u001B[0m \u001B[0my\u001B[0m \u001B[1;32min\u001B[0m \u001B[0mtqdm_notebook\u001B[0m\u001B[1;33m(\u001B[0m\u001B[0menumerate\u001B[0m\u001B[1;33m(\u001B[0m\u001B[0my_train\u001B[0m\u001B[1;33m)\u001B[0m\u001B[1;33m)\u001B[0m\u001B[1;33m]\u001B[0m\u001B[1;33m\u001B[0m\u001B[0m\n\u001B[0;32m      3\u001B[0m \u001B[0mend_y\u001B[0m \u001B[1;33m=\u001B[0m \u001B[0mtime\u001B[0m\u001B[1;33m(\u001B[0m\u001B[1;33m)\u001B[0m\u001B[1;33m\u001B[0m\u001B[0m\n\u001B[0;32m      4\u001B[0m \u001B[1;33m\u001B[0m\u001B[0m\n\u001B[0;32m      5\u001B[0m \u001B[0mencryption_time_y\u001B[0m \u001B[1;33m=\u001B[0m \u001B[0mend_y\u001B[0m \u001B[1;33m-\u001B[0m \u001B[0mstart_y\u001B[0m\u001B[1;33m\u001B[0m\u001B[0m\n",
      "\u001B[1;31mNameError\u001B[0m: name 'time' is not defined"
     ]
    }
   ],
   "source": [
    "start_y = time()\n",
    "enc_y_train = [ts.CKKSVector(ctx, [y]) for i, y in tqdm_notebook(enumerate(y_train))]\n",
    "end_y = time()\n",
    "\n",
    "encryption_time_y = end_y - start_y"
   ],
   "metadata": {
    "collapsed": false,
    "ExecuteTime": {
     "end_time": "2023-09-18T04:40:33.885322600Z",
     "start_time": "2023-09-18T04:40:33.753041800Z"
    }
   },
   "id": "ad2e9a7af204fd4b"
  },
  {
   "cell_type": "code",
   "execution_count": 73,
   "outputs": [],
   "source": [
    "x_test = x_test.to(torch.float32)\n",
    "y_test = y_test.to(torch.float32)"
   ],
   "metadata": {
    "collapsed": false,
    "ExecuteTime": {
     "end_time": "2023-09-18T04:26:21.994678300Z",
     "start_time": "2023-09-18T04:26:21.932090100Z"
    }
   },
   "id": "91a25f7763ace6a7"
  },
  {
   "cell_type": "code",
   "execution_count": 76,
   "outputs": [
    {
     "name": "stdout",
     "output_type": "stream",
     "text": [
      "Accuracy at epoch #0 is 0.11281055212020874\n",
      "<class 'tenseal.tensors.ckksvector.CKKSVector'>\n"
     ]
    },
    {
     "ename": "ValueError",
     "evalue": "end of modulus switching chain reached",
     "output_type": "error",
     "traceback": [
      "\u001B[1;31m---------------------------------------------------------------------------\u001B[0m",
      "\u001B[1;31mValueError\u001B[0m                                Traceback (most recent call last)",
      "\u001B[1;32m<ipython-input-76-729e9987dea8>\u001B[0m in \u001B[0;36m<module>\u001B[1;34m\u001B[0m\n\u001B[0;32m     12\u001B[0m     \u001B[0mt_start\u001B[0m \u001B[1;33m=\u001B[0m \u001B[0mtime\u001B[0m\u001B[1;33m(\u001B[0m\u001B[1;33m)\u001B[0m\u001B[1;33m\u001B[0m\u001B[0m\n\u001B[0;32m     13\u001B[0m     \u001B[1;32mfor\u001B[0m \u001B[0menc_x\u001B[0m\u001B[1;33m,\u001B[0m \u001B[0menc_y\u001B[0m \u001B[1;32min\u001B[0m \u001B[0mzip\u001B[0m\u001B[1;33m(\u001B[0m\u001B[0menc_x_train\u001B[0m\u001B[1;33m,\u001B[0m \u001B[0menc_y_train\u001B[0m\u001B[1;33m)\u001B[0m\u001B[1;33m:\u001B[0m\u001B[1;33m\u001B[0m\u001B[0m\n\u001B[1;32m---> 14\u001B[1;33m         \u001B[0menc_out\u001B[0m \u001B[1;33m=\u001B[0m \u001B[0meelr\u001B[0m\u001B[1;33m.\u001B[0m\u001B[0mforward\u001B[0m\u001B[1;33m(\u001B[0m\u001B[0menc_x\u001B[0m\u001B[1;33m)\u001B[0m\u001B[1;33m\u001B[0m\u001B[0m\n\u001B[0m\u001B[0;32m     15\u001B[0m         \u001B[0meelr\u001B[0m\u001B[1;33m.\u001B[0m\u001B[0mbackward\u001B[0m\u001B[1;33m(\u001B[0m\u001B[0menc_x\u001B[0m\u001B[1;33m,\u001B[0m \u001B[0menc_out\u001B[0m\u001B[1;33m,\u001B[0m \u001B[0menc_y\u001B[0m\u001B[1;33m)\u001B[0m\u001B[1;33m\u001B[0m\u001B[0m\n\u001B[0;32m     16\u001B[0m     \u001B[0meelr\u001B[0m\u001B[1;33m.\u001B[0m\u001B[0mupdate_parameters\u001B[0m\u001B[1;33m(\u001B[0m\u001B[1;33m)\u001B[0m\u001B[1;33m\u001B[0m\u001B[0m\n",
      "\u001B[1;32m<ipython-input-75-1e91daba4519>\u001B[0m in \u001B[0;36mforward\u001B[1;34m(self, enc_x)\u001B[0m\n\u001B[0;32m     12\u001B[0m         \u001B[0menc_out\u001B[0m \u001B[1;33m=\u001B[0m \u001B[0menc_x\u001B[0m\u001B[1;33m.\u001B[0m\u001B[0mdot\u001B[0m\u001B[1;33m(\u001B[0m\u001B[0mself\u001B[0m\u001B[1;33m.\u001B[0m\u001B[0mweight\u001B[0m\u001B[1;33m)\u001B[0m \u001B[1;33m+\u001B[0m \u001B[0mself\u001B[0m\u001B[1;33m.\u001B[0m\u001B[0mbias\u001B[0m\u001B[1;33m\u001B[0m\u001B[0m\n\u001B[0;32m     13\u001B[0m         \u001B[0mprint\u001B[0m\u001B[1;33m(\u001B[0m\u001B[0mtype\u001B[0m\u001B[1;33m(\u001B[0m\u001B[0menc_out\u001B[0m\u001B[1;33m)\u001B[0m\u001B[1;33m)\u001B[0m\u001B[1;33m\u001B[0m\u001B[0m\n\u001B[1;32m---> 14\u001B[1;33m         \u001B[0menc_out\u001B[0m \u001B[1;33m=\u001B[0m \u001B[0mEncryptedLR\u001B[0m\u001B[1;33m.\u001B[0m\u001B[0msigmoid\u001B[0m\u001B[1;33m(\u001B[0m\u001B[0menc_out\u001B[0m\u001B[1;33m)\u001B[0m\u001B[1;33m\u001B[0m\u001B[0m\n\u001B[0m\u001B[0;32m     15\u001B[0m         \u001B[1;32mreturn\u001B[0m \u001B[0menc_out\u001B[0m\u001B[1;33m\u001B[0m\u001B[0m\n\u001B[0;32m     16\u001B[0m \u001B[1;33m\u001B[0m\u001B[0m\n",
      "\u001B[1;32m<ipython-input-75-1e91daba4519>\u001B[0m in \u001B[0;36msigmoid\u001B[1;34m(enc_x)\u001B[0m\n\u001B[0;32m     36\u001B[0m     \u001B[1;33m@\u001B[0m\u001B[0mstaticmethod\u001B[0m\u001B[1;33m\u001B[0m\u001B[0m\n\u001B[0;32m     37\u001B[0m     \u001B[1;32mdef\u001B[0m \u001B[0msigmoid\u001B[0m\u001B[1;33m(\u001B[0m\u001B[0menc_x\u001B[0m\u001B[1;33m)\u001B[0m\u001B[1;33m:\u001B[0m\u001B[1;33m\u001B[0m\u001B[0m\n\u001B[1;32m---> 38\u001B[1;33m         \u001B[1;32mreturn\u001B[0m \u001B[0menc_x\u001B[0m\u001B[1;33m.\u001B[0m\u001B[0mpolyval\u001B[0m\u001B[1;33m(\u001B[0m\u001B[1;33m[\u001B[0m\u001B[1;36m0.5\u001B[0m\u001B[1;33m,\u001B[0m \u001B[1;36m0.197\u001B[0m\u001B[1;33m,\u001B[0m \u001B[1;36m0\u001B[0m\u001B[1;33m,\u001B[0m \u001B[1;33m-\u001B[0m\u001B[1;36m0.004\u001B[0m\u001B[1;33m]\u001B[0m\u001B[1;33m)\u001B[0m\u001B[1;33m\u001B[0m\u001B[0m\n\u001B[0m\u001B[0;32m     39\u001B[0m \u001B[1;33m\u001B[0m\u001B[0m\n\u001B[0;32m     40\u001B[0m     \u001B[1;32mdef\u001B[0m \u001B[0mplain_accuracy\u001B[0m\u001B[1;33m(\u001B[0m\u001B[0mself\u001B[0m\u001B[1;33m,\u001B[0m \u001B[0mx_test\u001B[0m\u001B[1;33m,\u001B[0m \u001B[0my_test\u001B[0m\u001B[1;33m)\u001B[0m\u001B[1;33m:\u001B[0m\u001B[1;33m\u001B[0m\u001B[0m\n",
      "\u001B[1;32m~\\anaconda3\\envs\\crypto\\lib\\site-packages\\tenseal\\tensors\\abstract_tensor.py\u001B[0m in \u001B[0;36mpolyval\u001B[1;34m(self, coefficients)\u001B[0m\n\u001B[0;32m    175\u001B[0m         \u001B[0;31m`\u001B[0m\u001B[0mcoefficients\u001B[0m\u001B[1;33m[\u001B[0m\u001B[1;36m0\u001B[0m\u001B[1;33m]\u001B[0m \u001B[1;33m+\u001B[0m \u001B[0mcoefficients\u001B[0m\u001B[1;33m[\u001B[0m\u001B[1;36m1\u001B[0m\u001B[1;33m]\u001B[0m \u001B[1;33m*\u001B[0m \u001B[0mself\u001B[0m \u001B[1;33m+\u001B[0m \u001B[1;33m...\u001B[0m\u001B[1;33m.\u001B[0m \u001B[0mcoefficients\u001B[0m\u001B[1;33m[\u001B[0m\u001B[0mn\u001B[0m\u001B[1;33m]\u001B[0m \u001B[1;33m*\u001B[0m \u001B[0mself\u001B[0m \u001B[1;33m^\u001B[0m \u001B[0mn\u001B[0m\u001B[0;31m`\u001B[0m\u001B[1;33m\u001B[0m\u001B[0m\n\u001B[0;32m    176\u001B[0m         \"\"\"\n\u001B[1;32m--> 177\u001B[1;33m         \u001B[1;32mreturn\u001B[0m \u001B[0mself\u001B[0m\u001B[1;33m.\u001B[0m\u001B[0m_wrap\u001B[0m\u001B[1;33m(\u001B[0m\u001B[0mself\u001B[0m\u001B[1;33m.\u001B[0m\u001B[0mdata\u001B[0m\u001B[1;33m.\u001B[0m\u001B[0mpolyval\u001B[0m\u001B[1;33m(\u001B[0m\u001B[0mcoefficients\u001B[0m\u001B[1;33m)\u001B[0m\u001B[1;33m)\u001B[0m\u001B[1;33m\u001B[0m\u001B[0m\n\u001B[0m\u001B[0;32m    178\u001B[0m \u001B[1;33m\u001B[0m\u001B[0m\n\u001B[0;32m    179\u001B[0m     \u001B[1;32mdef\u001B[0m \u001B[0mpolyval_\u001B[0m\u001B[1;33m(\u001B[0m\u001B[0mself\u001B[0m\u001B[1;33m,\u001B[0m \u001B[0mcoefficients\u001B[0m\u001B[1;33m:\u001B[0m \u001B[0mUnion\u001B[0m\u001B[1;33m[\u001B[0m\u001B[0mList\u001B[0m\u001B[1;33m[\u001B[0m\u001B[0mfloat\u001B[0m\u001B[1;33m]\u001B[0m\u001B[1;33m,\u001B[0m \u001B[0mList\u001B[0m\u001B[1;33m[\u001B[0m\u001B[0mint\u001B[0m\u001B[1;33m]\u001B[0m\u001B[1;33m]\u001B[0m\u001B[1;33m)\u001B[0m \u001B[1;33m->\u001B[0m \u001B[1;34m\"AbstractTensor\"\u001B[0m\u001B[1;33m:\u001B[0m\u001B[1;33m\u001B[0m\u001B[0m\n",
      "\u001B[1;31mValueError\u001B[0m: end of modulus switching chain reached"
     ]
    }
   ],
   "source": [
    "eelr = EncryptedLR(LR(x_train.shape[1]))\n",
    "accuracy = eelr.plain_accuracy(x_test, y_test)\n",
    "print(f\"Accuracy at epoch #0 is {accuracy}\")\n",
    "\n",
    "times = []\n",
    "for epoch in range(5):\n",
    "    # if you want to keep an eye on the distribution to make sure\n",
    "    # the function approximation is still working fine\n",
    "    # WARNING: this operation is time consuming\n",
    "    # encrypted_out_distribution(eelr, enc_x_train)\n",
    "    \n",
    "    t_start = time()\n",
    "    for enc_x, enc_y in zip(enc_x_train, enc_y_train):\n",
    "        enc_out = eelr.forward(enc_x)\n",
    "        eelr.backward(enc_x, enc_out, enc_y)\n",
    "    eelr.update_parameters()\n",
    "    t_end = time()\n",
    "    times.append(t_end - t_start)\n",
    "    \n",
    "    eelr.decrypt()\n",
    "\n",
    "\n",
    "accuracy = eelr.plain_accuracy(x_test, y_test)\n",
    "print(f\"\\nAverage time per epoch: {int(sum(times) / len(times))} seconds\")\n",
    "print(f\"Final accuracy is {accuracy}\")"
   ],
   "metadata": {
    "collapsed": false,
    "ExecuteTime": {
     "end_time": "2023-09-18T04:28:15.843742400Z",
     "start_time": "2023-09-18T04:28:15.768493Z"
    }
   },
   "id": "e243dc4459ed4f65"
  },
  {
   "cell_type": "code",
   "execution_count": 12,
   "outputs": [],
   "source": [
    "secret_context = ctx.serialize(save_secret_key=True, save_public_key=False)"
   ],
   "metadata": {
    "collapsed": false,
    "ExecuteTime": {
     "start_time": "2023-09-18T00:51:12.138355700Z"
    }
   },
   "id": "76fca5fd910e7b7b"
  },
  {
   "cell_type": "code",
   "execution_count": 14,
   "outputs": [],
   "source": [
    "with open(\"secret_context.bin\", \"wb\") as file:\n",
    "    file.write(secret_context)"
   ],
   "metadata": {
    "collapsed": false,
    "ExecuteTime": {
     "start_time": "2023-09-18T00:53:51.587693900Z"
    }
   },
   "id": "b5d141e9c81b4025"
  },
  {
   "cell_type": "code",
   "execution_count": 16,
   "outputs": [],
   "source": [
    "with open(\"secret_context.bin\", \"rb\") as file:\n",
    "    loaded_context = file.read()"
   ],
   "metadata": {
    "collapsed": false,
    "ExecuteTime": {
     "start_time": "2023-09-18T00:55:10.405221800Z"
    }
   },
   "id": "7eeb780fd13695fd"
  },
  {
   "cell_type": "code",
   "execution_count": 17,
   "outputs": [],
   "source": [
    "new_context = ctx.load(loaded_context)"
   ],
   "metadata": {
    "collapsed": false,
    "ExecuteTime": {
     "start_time": "2023-09-18T00:57:37.309773300Z"
    }
   },
   "id": "564100820750eb93"
  },
  {
   "cell_type": "code",
   "execution_count": 18,
   "outputs": [
    {
     "data": {
      "text/plain": "<tenseal.enc_context.SecretKey at 0x1894e7d3898>"
     },
     "execution_count": 18,
     "metadata": {},
     "output_type": "execute_result"
    }
   ],
   "source": [
    "new_context.secret_key()"
   ],
   "metadata": {
    "collapsed": false,
    "ExecuteTime": {
     "start_time": "2023-09-18T00:57:44.705981Z"
    }
   },
   "id": "7976a13bbdd0b178"
  }
 ],
 "metadata": {
  "kernelspec": {
   "display_name": "Python 3",
   "language": "python",
   "name": "python3"
  },
  "language_info": {
   "codemirror_mode": {
    "name": "ipython",
    "version": 2
   },
   "file_extension": ".py",
   "mimetype": "text/x-python",
   "name": "python",
   "nbconvert_exporter": "python",
   "pygments_lexer": "ipython2",
   "version": "2.7.6"
  }
 },
 "nbformat": 4,
 "nbformat_minor": 5
}
