{
 "cells": [
  {
   "cell_type": "code",
   "execution_count": 1,
   "id": "initial_id",
   "metadata": {
    "collapsed": true,
    "ExecuteTime": {
     "end_time": "2023-09-20T07:04:17.579077500Z",
     "start_time": "2023-09-20T07:04:16.252199Z"
    }
   },
   "outputs": [],
   "source": [
    "import torch\n",
    "\n",
    "import numpy as np\n",
    "import pandas as pd\n",
    "import tenseal as ts\n",
    "import base64\n",
    "\n",
    "from sklearn.model_selection import train_test_split\n",
    "from sklearn.metrics import accuracy_score, f1_score, precision_score, recall_score\n",
    "from sklearn.preprocessing import StandardScaler\n",
    "\n",
    "from time import time\n",
    "from tqdm import tqdm_notebook"
   ]
  },
  {
   "cell_type": "markdown",
   "source": [
    "## Load, Preprocess Dataset - hmeq.csv (Before operation)"
   ],
   "metadata": {
    "collapsed": false
   },
   "id": "163e56fd55a31ce4"
  },
  {
   "cell_type": "code",
   "execution_count": 3,
   "outputs": [],
   "source": [
    "# Loading the dataset\n",
    "df = pd.read_csv(\"data/hmeq.csv\", sep=\",\")\n",
    "\n",
    "# Replacement of NaN variables\n",
    "df['MORTDUE'].fillna(value=df['MORTDUE'].mean(), inplace=True)\n",
    "df['VALUE'].fillna(value=df['VALUE'].mean(), inplace=True)\n",
    "df[\"REASON\"].fillna(value=\"DebtCon\", inplace=True)\n",
    "df[\"JOB\"].fillna(value=\"Other\", inplace=True)\n",
    "df[\"YOJ\"].fillna(value=df['YOJ'].mean(), inplace=True)\n",
    "df[\"DEROG\"].fillna(value=0, inplace=True)\n",
    "df[\"DELINQ\"].fillna(value=0, inplace=True)\n",
    "df['CLAGE'].fillna(value=df['CLAGE'].mean(), inplace=True)\n",
    "df['NINQ'].fillna(value=df['NINQ'].mean(), inplace=True)\n",
    "df['CLNO'].fillna(value=df['CLNO'].mean(), inplace=True)\n",
    "df['CLNO'].fillna(value=df['CLNO'].mean(), inplace=True)\n",
    "df['DEBTINC'].fillna(value=df['DEBTINC'].mean(), inplace=True)\n",
    "df.drop(columns=[\"BAD\", \"JOB\", \"REASON\"])\n",
    "\n",
    "# Checking if there is anything left out\n",
    "assert np.array_equal(df.isnull().sum(), [0] * len(df.isnull().sum()))"
   ],
   "metadata": {
    "collapsed": false,
    "ExecuteTime": {
     "end_time": "2023-09-20T07:04:35.704679700Z",
     "start_time": "2023-09-20T07:04:35.684334200Z"
    }
   },
   "id": "d5b81346d914e159"
  },
  {
   "cell_type": "code",
   "execution_count": 4,
   "outputs": [
    {
     "data": {
      "text/plain": "   BAD  LOAN     MORTDUE          VALUE   REASON     JOB        YOJ  DEROG  \\\n0    1  1100  25860.0000   39025.000000  HomeImp   Other  10.500000    0.0   \n1    1  1300  70053.0000   68400.000000  HomeImp   Other   7.000000    0.0   \n2    1  1500  13500.0000   16700.000000  HomeImp   Other   4.000000    0.0   \n3    1  1500  73760.8172  101776.048741  DebtCon   Other   8.922268    0.0   \n4    0  1700  97800.0000  112000.000000  HomeImp  Office   3.000000    0.0   \n\n   DELINQ       CLAGE      NINQ       CLNO    DEBTINC  \n0     0.0   94.366667  1.000000   9.000000  33.779915  \n1     2.0  121.833333  0.000000  14.000000  33.779915  \n2     0.0  149.466667  1.000000  10.000000  33.779915  \n3     0.0  179.766275  1.186055  21.296096  33.779915  \n4     0.0   93.333333  0.000000  14.000000  33.779915  ",
      "text/html": "<div>\n<style scoped>\n    .dataframe tbody tr th:only-of-type {\n        vertical-align: middle;\n    }\n\n    .dataframe tbody tr th {\n        vertical-align: top;\n    }\n\n    .dataframe thead th {\n        text-align: right;\n    }\n</style>\n<table border=\"1\" class=\"dataframe\">\n  <thead>\n    <tr style=\"text-align: right;\">\n      <th></th>\n      <th>BAD</th>\n      <th>LOAN</th>\n      <th>MORTDUE</th>\n      <th>VALUE</th>\n      <th>REASON</th>\n      <th>JOB</th>\n      <th>YOJ</th>\n      <th>DEROG</th>\n      <th>DELINQ</th>\n      <th>CLAGE</th>\n      <th>NINQ</th>\n      <th>CLNO</th>\n      <th>DEBTINC</th>\n    </tr>\n  </thead>\n  <tbody>\n    <tr>\n      <th>0</th>\n      <td>1</td>\n      <td>1100</td>\n      <td>25860.0000</td>\n      <td>39025.000000</td>\n      <td>HomeImp</td>\n      <td>Other</td>\n      <td>10.500000</td>\n      <td>0.0</td>\n      <td>0.0</td>\n      <td>94.366667</td>\n      <td>1.000000</td>\n      <td>9.000000</td>\n      <td>33.779915</td>\n    </tr>\n    <tr>\n      <th>1</th>\n      <td>1</td>\n      <td>1300</td>\n      <td>70053.0000</td>\n      <td>68400.000000</td>\n      <td>HomeImp</td>\n      <td>Other</td>\n      <td>7.000000</td>\n      <td>0.0</td>\n      <td>2.0</td>\n      <td>121.833333</td>\n      <td>0.000000</td>\n      <td>14.000000</td>\n      <td>33.779915</td>\n    </tr>\n    <tr>\n      <th>2</th>\n      <td>1</td>\n      <td>1500</td>\n      <td>13500.0000</td>\n      <td>16700.000000</td>\n      <td>HomeImp</td>\n      <td>Other</td>\n      <td>4.000000</td>\n      <td>0.0</td>\n      <td>0.0</td>\n      <td>149.466667</td>\n      <td>1.000000</td>\n      <td>10.000000</td>\n      <td>33.779915</td>\n    </tr>\n    <tr>\n      <th>3</th>\n      <td>1</td>\n      <td>1500</td>\n      <td>73760.8172</td>\n      <td>101776.048741</td>\n      <td>DebtCon</td>\n      <td>Other</td>\n      <td>8.922268</td>\n      <td>0.0</td>\n      <td>0.0</td>\n      <td>179.766275</td>\n      <td>1.186055</td>\n      <td>21.296096</td>\n      <td>33.779915</td>\n    </tr>\n    <tr>\n      <th>4</th>\n      <td>0</td>\n      <td>1700</td>\n      <td>97800.0000</td>\n      <td>112000.000000</td>\n      <td>HomeImp</td>\n      <td>Office</td>\n      <td>3.000000</td>\n      <td>0.0</td>\n      <td>0.0</td>\n      <td>93.333333</td>\n      <td>0.000000</td>\n      <td>14.000000</td>\n      <td>33.779915</td>\n    </tr>\n  </tbody>\n</table>\n</div>"
     },
     "execution_count": 4,
     "metadata": {},
     "output_type": "execute_result"
    }
   ],
   "source": [
    "df.head()"
   ],
   "metadata": {
    "collapsed": false,
    "ExecuteTime": {
     "end_time": "2023-09-20T07:04:37.976542800Z",
     "start_time": "2023-09-20T07:04:37.947600800Z"
    }
   },
   "id": "3f3eee7e0d0c396a"
  },
  {
   "cell_type": "code",
   "execution_count": 5,
   "outputs": [
    {
     "data": {
      "text/plain": "(5960, 13)"
     },
     "execution_count": 5,
     "metadata": {},
     "output_type": "execute_result"
    }
   ],
   "source": [
    "df.shape"
   ],
   "metadata": {
    "collapsed": false,
    "ExecuteTime": {
     "end_time": "2023-09-20T07:04:38.655380400Z",
     "start_time": "2023-09-20T07:04:38.645492300Z"
    }
   },
   "id": "942166c8f6221209"
  },
  {
   "cell_type": "code",
   "execution_count": 6,
   "outputs": [],
   "source": [
    "# Removing the features BAD, JOB, REASON from the input features set\n",
    "# NUM = 1000\n",
    "x_basic = df.drop(columns=[\"BAD\", \"JOB\", \"REASON\"])\n",
    "y = df[\"BAD\"]"
   ],
   "metadata": {
    "collapsed": false,
    "ExecuteTime": {
     "end_time": "2023-09-20T07:04:38.942334100Z",
     "start_time": "2023-09-20T07:04:38.930743400Z"
    }
   },
   "id": "7c1b38341dcff0ed"
  },
  {
   "cell_type": "code",
   "execution_count": 7,
   "outputs": [],
   "source": [
    "scaler = StandardScaler()\n",
    "x_scaled = scaler.fit_transform(np.array(x_basic))\n",
    "y_scaled = scaler.fit_transform(np.array(y).reshape(-1, 1))"
   ],
   "metadata": {
    "collapsed": false,
    "ExecuteTime": {
     "end_time": "2023-09-20T07:04:39.119865700Z",
     "start_time": "2023-09-20T07:04:39.111397600Z"
    }
   },
   "id": "5c04810451c6f9f2"
  },
  {
   "cell_type": "code",
   "execution_count": 8,
   "outputs": [],
   "source": [
    "outliers = []\n",
    "temp = x_scaled.T\n",
    "for i in range(10):\n",
    "    outliers = outliers + np.where(abs(temp[i]) > 5)[0].tolist()\n",
    "outliers = np.unique(np.array(outliers))"
   ],
   "metadata": {
    "collapsed": false,
    "ExecuteTime": {
     "end_time": "2023-09-20T07:04:39.287952900Z",
     "start_time": "2023-09-20T07:04:39.283411400Z"
    }
   },
   "id": "eb6dca40cbf65fc9"
  },
  {
   "cell_type": "code",
   "execution_count": 9,
   "outputs": [],
   "source": [
    "x_scaled = np.delete(x_scaled, outliers, axis=0)\n",
    "y_scaled = np.delete(y_scaled, outliers, axis=0)"
   ],
   "metadata": {
    "collapsed": false,
    "ExecuteTime": {
     "end_time": "2023-09-20T07:04:39.466755500Z",
     "start_time": "2023-09-20T07:04:39.463058300Z"
    }
   },
   "id": "306c6b331603f821"
  },
  {
   "cell_type": "code",
   "execution_count": 10,
   "outputs": [],
   "source": [
    "x_scaled = np.round(x_scaled, 3)\n",
    "y_scaled = np.round(y_scaled, 3)"
   ],
   "metadata": {
    "collapsed": false,
    "ExecuteTime": {
     "end_time": "2023-09-20T07:04:39.637842900Z",
     "start_time": "2023-09-20T07:04:39.621231200Z"
    }
   },
   "id": "da0a432109dd222"
  },
  {
   "cell_type": "code",
   "execution_count": 11,
   "outputs": [],
   "source": [
    "x_train, x_test, y_train, y_test = train_test_split(x_scaled, \n",
    "                                                    y_scaled, \n",
    "                                                    test_size=0.2, \n",
    "                                                    shuffle=True, \n",
    "                                                    stratify=y_scaled, \n",
    "                                                    random_state=42)"
   ],
   "metadata": {
    "collapsed": false,
    "ExecuteTime": {
     "end_time": "2023-09-20T07:04:39.806464800Z",
     "start_time": "2023-09-20T07:04:39.773027100Z"
    }
   },
   "id": "fc35cdc7df332045"
  },
  {
   "cell_type": "code",
   "execution_count": 12,
   "outputs": [
    {
     "name": "stdout",
     "output_type": "stream",
     "text": [
      "(4592, 10)\n",
      "(4592, 1)\n"
     ]
    }
   ],
   "source": [
    "print(x_train.shape)\n",
    "print(y_train.shape)"
   ],
   "metadata": {
    "collapsed": false,
    "ExecuteTime": {
     "end_time": "2023-09-20T07:04:39.955148100Z",
     "start_time": "2023-09-20T07:04:39.935744900Z"
    }
   },
   "id": "42b4df5b5404dc40"
  },
  {
   "cell_type": "markdown",
   "source": [
    "## Initialize Model"
   ],
   "metadata": {
    "collapsed": false
   },
   "id": "5d87642755ebe104"
  },
  {
   "cell_type": "code",
   "execution_count": 13,
   "outputs": [],
   "source": [
    "# To get initial weight and bias\n",
    "# You can also randomly initialize it\n",
    "# But it is comfortable to use torch to get (weight, bias) pair \n",
    "\n",
    "class LR(torch.nn.Module):\n",
    "    def __init__(self, n_features):\n",
    "        super(LR, self).__init__()\n",
    "        self.lr = torch.nn.Linear(n_features, 1)\n",
    "        \n",
    "    def forward(self, x):\n",
    "        out = torch.sigmoid(self.lr(x))\n",
    "        return out"
   ],
   "metadata": {
    "collapsed": false,
    "ExecuteTime": {
     "end_time": "2023-09-20T07:04:40.469408Z",
     "start_time": "2023-09-20T07:04:40.449545400Z"
    }
   },
   "id": "c386c4890889eac5"
  },
  {
   "cell_type": "markdown",
   "source": [
    "## Compile"
   ],
   "metadata": {
    "collapsed": false
   },
   "id": "eb613ff9ce21c3a3"
  },
  {
   "cell_type": "code",
   "execution_count": 14,
   "outputs": [],
   "source": [
    "def write_data(file_name, file_content):\n",
    "    if type(file_content) == bytes:\n",
    "        file_content = base64.b64encode(file_content)\n",
    "        \n",
    "    with open(file_name, 'wb') as f:\n",
    "        f.write(file_content)\n",
    "\n",
    "def read_data(file_name):\n",
    "    with open(file_name, 'rb') as f:\n",
    "        file_content = f.read()\n",
    "    \n",
    "    return base64.b64decode(file_content)"
   ],
   "metadata": {
    "collapsed": false,
    "ExecuteTime": {
     "end_time": "2023-09-20T07:04:41.079215700Z",
     "start_time": "2023-09-20T07:04:41.074457300Z"
    }
   },
   "id": "ece6f920766be02f"
  },
  {
   "cell_type": "code",
   "execution_count": 15,
   "outputs": [],
   "source": [
    "# this function have to be executed in local (before encrypting)\n",
    "\n",
    "def compile(\n",
    "    x, y, write_data # x, y are splitted before premodeling \n",
    "):  \n",
    "    print(\"Making context\")\n",
    "    poly_mod_degree = pow(2, 13)\n",
    "    coeff_mod_bit_sizes = [40, 21, 21, 21, 21, 21, 21, 40]\n",
    "    ctx = ts.context(ts.SCHEME_TYPE.CKKS, poly_mod_degree, -1, coeff_mod_bit_sizes)\n",
    "    ctx.global_scale = 2 ** 21\n",
    "    ctx.generate_galois_keys()\n",
    "    \n",
    "    print(\"Saving context\")\n",
    "    secret_context = ctx.serialize(save_secret_key=True)\n",
    "    write_data(file_name = \"D:/data/customer/secret_context.txt\", \n",
    "               file_content = secret_context)\n",
    "    \n",
    "    ctx.make_context_public()\n",
    "    public_context = ctx.serialize()\n",
    "    write_data(file_name = \"D:/data/server/public_context.txt\", \n",
    "               file_content = public_context)\n",
    "    \n",
    "    print(\"Encrypting datas\")\n",
    "    start_x = time()\n",
    "    enc_x = [ts.CKKSVector(ctx, data.tolist()) for _, data in tqdm_notebook(enumerate(x))]\n",
    "    encoding_x = time() - start_x\n",
    "    \n",
    "    start_y = time()\n",
    "    enc_y = [ts.CKKSVector(ctx, data.tolist()) for _, data in tqdm_notebook(enumerate(y))]\n",
    "    encoding_y = time() - start_y\n",
    "    \n",
    "    print(f\"Data encrypting time x: {encoding_x}, y: {encoding_y} when the data size is {len(enc_x)}\")\n",
    "    \n",
    "    print(\"Saving datas\")\n",
    "    start_saving = time()\n",
    "    for i, data in tqdm_notebook(enumerate(enc_x)):\n",
    "        write_data(file_name=\"D:/data/server/enc_x/enc_x_\"+str(i)+\".txt\",\n",
    "                   file_content=data.serialize())\n",
    "        \n",
    "    for i, data in tqdm_notebook(enumerate(enc_y)):\n",
    "        write_data(file_name=\"D:/data/server/enc_y/enc_y_\"+str(i)+\".txt\",\n",
    "                   file_content=data.serialize())\n",
    "    end_saving = time()\n",
    "    print(f\"Data saving time: {end_saving-start_saving} when the data size is {len(enc_x)}\")\n",
    "    \n",
    "    del ctx, secret_context, public_context, enc_x, enc_y"
   ],
   "metadata": {
    "collapsed": false,
    "ExecuteTime": {
     "end_time": "2023-09-20T07:04:41.267464400Z",
     "start_time": "2023-09-20T07:04:41.257669300Z"
    }
   },
   "id": "ff5bc8b865433a60"
  },
  {
   "cell_type": "code",
   "execution_count": 16,
   "outputs": [
    {
     "name": "stdout",
     "output_type": "stream",
     "text": [
      "Making context\n",
      "Saving context\n",
      "Encrypting datas\n"
     ]
    },
    {
     "name": "stderr",
     "output_type": "stream",
     "text": [
      "C:\\Users\\dwcho\\anaconda3\\envs\\crypto\\lib\\site-packages\\ipykernel_launcher.py:25: TqdmDeprecationWarning: This function will be removed in tqdm==5.0.0\n",
      "Please use `tqdm.notebook.tqdm` instead of `tqdm.tqdm_notebook`\n"
     ]
    },
    {
     "data": {
      "text/plain": "0it [00:00, ?it/s]",
      "application/vnd.jupyter.widget-view+json": {
       "version_major": 2,
       "version_minor": 0,
       "model_id": "9c8b08d210e14ec68da805ae04e3286f"
      }
     },
     "metadata": {},
     "output_type": "display_data"
    },
    {
     "name": "stderr",
     "output_type": "stream",
     "text": [
      "C:\\Users\\dwcho\\anaconda3\\envs\\crypto\\lib\\site-packages\\ipykernel_launcher.py:29: TqdmDeprecationWarning: This function will be removed in tqdm==5.0.0\n",
      "Please use `tqdm.notebook.tqdm` instead of `tqdm.tqdm_notebook`\n"
     ]
    },
    {
     "data": {
      "text/plain": "0it [00:00, ?it/s]",
      "application/vnd.jupyter.widget-view+json": {
       "version_major": 2,
       "version_minor": 0,
       "model_id": "358ebc34c1c64bb4998c4deb14ac93e2"
      }
     },
     "metadata": {},
     "output_type": "display_data"
    },
    {
     "name": "stdout",
     "output_type": "stream",
     "text": [
      "Data encrypting time x: 30.212289094924927, y: 30.416051626205444 when the data size is 4592\n",
      "Saving datas\n"
     ]
    },
    {
     "name": "stderr",
     "output_type": "stream",
     "text": [
      "C:\\Users\\dwcho\\anaconda3\\envs\\crypto\\lib\\site-packages\\ipykernel_launcher.py:36: TqdmDeprecationWarning: This function will be removed in tqdm==5.0.0\n",
      "Please use `tqdm.notebook.tqdm` instead of `tqdm.tqdm_notebook`\n"
     ]
    },
    {
     "data": {
      "text/plain": "0it [00:00, ?it/s]",
      "application/vnd.jupyter.widget-view+json": {
       "version_major": 2,
       "version_minor": 0,
       "model_id": "0007d40b1d494b2b8d67d5da1a6c85f8"
      }
     },
     "metadata": {},
     "output_type": "display_data"
    },
    {
     "name": "stderr",
     "output_type": "stream",
     "text": [
      "C:\\Users\\dwcho\\anaconda3\\envs\\crypto\\lib\\site-packages\\ipykernel_launcher.py:40: TqdmDeprecationWarning: This function will be removed in tqdm==5.0.0\n",
      "Please use `tqdm.notebook.tqdm` instead of `tqdm.tqdm_notebook`\n"
     ]
    },
    {
     "data": {
      "text/plain": "0it [00:00, ?it/s]",
      "application/vnd.jupyter.widget-view+json": {
       "version_major": 2,
       "version_minor": 0,
       "model_id": "16f09e777cec4500b386cca6c9893399"
      }
     },
     "metadata": {},
     "output_type": "display_data"
    },
    {
     "name": "stdout",
     "output_type": "stream",
     "text": [
      "Data saving time: 185.6437792778015 when the data size is 4592\n"
     ]
    }
   ],
   "source": [
    "compile(x=x_train, y=y_train, write_data=write_data)"
   ],
   "metadata": {
    "collapsed": false,
    "ExecuteTime": {
     "end_time": "2023-09-20T07:08:52.025656800Z",
     "start_time": "2023-09-20T07:04:42.451072200Z"
    }
   },
   "id": "e6ed32c0143b3f20"
  },
  {
   "cell_type": "markdown",
   "source": [
    "## Send to Server and Customer  \n",
    "(The rest is ommitted)"
   ],
   "metadata": {
    "collapsed": false
   },
   "id": "70747fb0e46d86bd"
  },
  {
   "cell_type": "code",
   "execution_count": null,
   "outputs": [],
   "source": [],
   "metadata": {
    "collapsed": false
   },
   "id": "26540315bea1bac8"
  }
 ],
 "metadata": {
  "kernelspec": {
   "display_name": "Python 3",
   "language": "python",
   "name": "python3"
  },
  "language_info": {
   "codemirror_mode": {
    "name": "ipython",
    "version": 2
   },
   "file_extension": ".py",
   "mimetype": "text/x-python",
   "name": "python",
   "nbconvert_exporter": "python",
   "pygments_lexer": "ipython2",
   "version": "2.7.6"
  }
 },
 "nbformat": 4,
 "nbformat_minor": 5
}
