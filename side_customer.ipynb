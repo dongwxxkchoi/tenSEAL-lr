{
 "cells": [
  {
   "cell_type": "code",
   "execution_count": 1,
   "id": "initial_id",
   "metadata": {
    "collapsed": true,
    "ExecuteTime": {
     "end_time": "2023-09-20T08:52:45.506763200Z",
     "start_time": "2023-09-20T08:52:43.762633100Z"
    }
   },
   "outputs": [],
   "source": [
    "import torch\n",
    "\n",
    "import numpy as np\n",
    "import pandas as pd\n",
    "import tenseal as ts\n",
    "import base64\n",
    "\n",
    "from sklearn.model_selection import train_test_split\n",
    "from sklearn.metrics import accuracy_score, f1_score, precision_score, recall_score\n",
    "from sklearn.preprocessing import StandardScaler\n",
    "\n",
    "from time import time\n",
    "from tqdm import tqdm_notebook"
   ]
  },
  {
   "cell_type": "code",
   "execution_count": 2,
   "outputs": [],
   "source": [
    "def write_data(file_name, file_content):\n",
    "    if type(file_content) == bytes:\n",
    "        file_content = base64.b64encode(file_content)\n",
    "        \n",
    "    with open(file_name, 'wb') as f:\n",
    "        f.write(file_content)\n",
    "\n",
    "def read_data(file_name):\n",
    "    with open(file_name, 'rb') as f:\n",
    "        file_content = f.read()\n",
    "    \n",
    "    return base64.b64decode(file_content)"
   ],
   "metadata": {
    "collapsed": false,
    "ExecuteTime": {
     "end_time": "2023-09-20T08:52:46.884186700Z",
     "start_time": "2023-09-20T08:52:46.868595700Z"
    }
   },
   "id": "d33433f5a496b18e"
  },
  {
   "cell_type": "code",
   "execution_count": 3,
   "outputs": [],
   "source": [
    "context = ts.context_from(read_data(file_name=\"D:/data/customer/secret_context.txt\"))"
   ],
   "metadata": {
    "collapsed": false,
    "ExecuteTime": {
     "end_time": "2023-09-20T08:52:49.044676700Z",
     "start_time": "2023-09-20T08:52:47.832494200Z"
    }
   },
   "id": "72aa650dcb69eb79"
  },
  {
   "cell_type": "code",
   "execution_count": 4,
   "outputs": [],
   "source": [
    "weight = ts.lazy_ckks_vector_from(read_data(file_name=\"D:/data/customer/weight.txt\"))\n",
    "bias = ts.lazy_ckks_vector_from(read_data(file_name=\"D:/data/customer/bias.txt\"))"
   ],
   "metadata": {
    "collapsed": false,
    "ExecuteTime": {
     "end_time": "2023-09-20T08:52:49.688044800Z",
     "start_time": "2023-09-20T08:52:49.651587400Z"
    }
   },
   "id": "b8e01722b1c1061b"
  },
  {
   "cell_type": "code",
   "execution_count": 5,
   "outputs": [],
   "source": [
    "weight.link_context(context)\n",
    "bias.link_context(context)\n",
    "weight = weight.decrypt()\n",
    "bias = bias.decrypt()\n"
   ],
   "metadata": {
    "collapsed": false,
    "ExecuteTime": {
     "end_time": "2023-09-20T08:52:49.944042400Z",
     "start_time": "2023-09-20T08:52:49.928556100Z"
    }
   },
   "id": "613b2f950a7d7750"
  },
  {
   "cell_type": "code",
   "execution_count": 6,
   "outputs": [],
   "source": [
    "# Linear Regression Model that supports training\n",
    "# but several settings have to be set baiscally and tough\n",
    "\n",
    "class LR:\n",
    "    def __init__(self, weight, bias):\n",
    "        # we have to change the shape: 1xN -> N\n",
    "        self.weight = weight  \n",
    "        self.bias = bias\n",
    "        \n",
    "        self._delta_w = 0\n",
    "        self._delta_b = 0\n",
    "        self._count = 0\n",
    "\n",
    "    def forward(self, enc_x):\n",
    "        # forward propagation\n",
    "        enc_out = enc_x.dot(self.weight) + self.bias\n",
    "        enc_out = LR.sigmoid(enc_out)\n",
    "        \n",
    "        return enc_out\n",
    "    \n",
    "    def backward(self, enc_x, enc_out, enc_y):\n",
    "        # backward propagation\n",
    "        out_minus_y = (enc_out - enc_y)\n",
    "        self._delta_w += enc_x * out_minus_y\n",
    "        self._delta_b += out_minus_y\n",
    "        self._count += 1\n",
    "        \n",
    "    def update_parameters(self):\n",
    "        # optimizer\n",
    "        if self._count == 0:\n",
    "            raise RuntimeError(\"You should at least run one forward iteration\")\n",
    "        \n",
    "        self.weight -= self._delta_w * (1 / self._count) + self.weight * 0.05\n",
    "        # \"self.weight * 0.05\" means l2 regularization\n",
    "        # it helps keep value between [-5, 5] (sigmoid)\n",
    "        self.bias -= self._delta_b * (1 / self._count)\n",
    "        \n",
    "        self._delta_w = 0\n",
    "        self._delta_b = 0\n",
    "        self._count = 0\n",
    "\n",
    "    @staticmethod\n",
    "    def sigmoid(enc_x):\n",
    "        # sigmoid function approximated between [-5, 5]\n",
    "        return enc_x.polyval([0.5, 0.197, 0, -0.004])\n",
    "\n",
    "    def plain_accuracy(self, x_test, y_test):\n",
    "        # accuracy for regression\n",
    "        w = torch.tensor(self.weight).double().reshape(-1, 1)\n",
    "        b = torch.tensor(self.bias).double()\n",
    "        x_test = x_test.double()\n",
    "        result = x_test.matmul(w) + b\n",
    "        out = torch.sigmoid(result)\n",
    "\n",
    "        correct = torch.abs(y_test - out) < 0.5\n",
    "        # if the loss under 0.5 -> correct\n",
    "        return correct.float().mean()\n",
    "\n",
    "    def encrypt(self, context):\n",
    "        # encrypt the model before training\n",
    "        self.weight = ts.ckks_vector(context, self.weight)\n",
    "        self.bias = ts.ckks_vector(context, self.bias)\n",
    "\n",
    "    def decrypt(self, key):\n",
    "        # decrypt the model after training\n",
    "        self.weight = self.weight.decrypt(key)\n",
    "        self.bias = self.bias.decrypt(key)\n",
    "\n",
    "    def __call__(self, *args, **kwargs):\n",
    "        return self.forward(*args, **kwargs)"
   ],
   "metadata": {
    "collapsed": false,
    "ExecuteTime": {
     "end_time": "2023-09-20T08:52:50.230208600Z",
     "start_time": "2023-09-20T08:52:50.214529900Z"
    }
   },
   "id": "c48246675f3c985"
  },
  {
   "cell_type": "code",
   "execution_count": 7,
   "outputs": [],
   "source": [
    "decrypted_lr = LR(weight, bias)"
   ],
   "metadata": {
    "collapsed": false,
    "ExecuteTime": {
     "end_time": "2023-09-20T08:52:50.762389900Z",
     "start_time": "2023-09-20T08:52:50.749081300Z"
    }
   },
   "id": "15d18728d82c1234"
  },
  {
   "cell_type": "code",
   "execution_count": 8,
   "outputs": [],
   "source": [
    "# Loading the dataset\n",
    "df = pd.read_csv(\"data/hmeq.csv\", sep=\",\")\n",
    "\n",
    "# Replacement of NaN variables\n",
    "df['MORTDUE'].fillna(value=df['MORTDUE'].mean(), inplace=True)\n",
    "df['VALUE'].fillna(value=df['VALUE'].mean(), inplace=True)\n",
    "df[\"REASON\"].fillna(value=\"DebtCon\", inplace=True)\n",
    "df[\"JOB\"].fillna(value=\"Other\", inplace=True)\n",
    "df[\"YOJ\"].fillna(value=df['YOJ'].mean(), inplace=True)\n",
    "df[\"DEROG\"].fillna(value=0, inplace=True)\n",
    "df[\"DELINQ\"].fillna(value=0, inplace=True)\n",
    "df['CLAGE'].fillna(value=df['CLAGE'].mean(), inplace=True)\n",
    "df['NINQ'].fillna(value=df['NINQ'].mean(), inplace=True)\n",
    "df['CLNO'].fillna(value=df['CLNO'].mean(), inplace=True)\n",
    "df['CLNO'].fillna(value=df['CLNO'].mean(), inplace=True)\n",
    "df['DEBTINC'].fillna(value=df['DEBTINC'].mean(), inplace=True)\n",
    "df.drop(columns=[\"BAD\", \"JOB\", \"REASON\"])\n",
    "\n",
    "# Checking if there is anything left out\n",
    "assert np.array_equal(df.isnull().sum(), [0] * len(df.isnull().sum()))\n",
    "\n",
    "x_basic = df.drop(columns=[\"BAD\", \"JOB\", \"REASON\"])\n",
    "y = df[\"BAD\"]\n",
    "\n",
    "scaler = StandardScaler()\n",
    "x_scaled = scaler.fit_transform(np.array(x_basic))\n",
    "y_scaled = scaler.fit_transform(np.array(y).reshape(-1, 1))\n",
    "\n",
    "outliers = []\n",
    "temp = x_scaled.T\n",
    "for i in range(10):\n",
    "    outliers = outliers + np.where(abs(temp[i]) > 5)[0].tolist()\n",
    "outliers = np.unique(np.array(outliers))\n",
    "\n",
    "x_scaled = np.delete(x_scaled, outliers, axis=0)\n",
    "y_scaled = np.delete(y_scaled, outliers, axis=0)\n",
    "\n",
    "x_scaled = np.round(x_scaled, 3)\n",
    "y_scaled = np.round(y_scaled, 3)\n",
    "\n",
    "x_train, x_test, y_train, y_test = train_test_split(x_scaled, \n",
    "                                                    y_scaled, \n",
    "                                                    test_size=0.2, \n",
    "                                                    shuffle=True, \n",
    "                                                    stratify=y_scaled, \n",
    "                                                    random_state=42)"
   ],
   "metadata": {
    "collapsed": false,
    "ExecuteTime": {
     "end_time": "2023-09-20T08:52:51.180379700Z",
     "start_time": "2023-09-20T08:52:51.132464Z"
    }
   },
   "id": "3e93b93da4463bf5"
  },
  {
   "cell_type": "code",
   "execution_count": 9,
   "outputs": [
    {
     "name": "stdout",
     "output_type": "stream",
     "text": [
      "tensor(0.5213)\n"
     ]
    }
   ],
   "source": [
    "x_test = torch.tensor(x_test).double()\n",
    "y_test = torch.tensor(y_test).double()\n",
    "\n",
    "accuracy = decrypted_lr.plain_accuracy(x_test, y_test)\n",
    "print(accuracy)"
   ],
   "metadata": {
    "collapsed": false,
    "ExecuteTime": {
     "end_time": "2023-09-20T08:52:52.099672200Z",
     "start_time": "2023-09-20T08:52:52.068389600Z"
    }
   },
   "id": "d5621a6f70acf2b3"
  }
 ],
 "metadata": {
  "kernelspec": {
   "display_name": "Python 3",
   "language": "python",
   "name": "python3"
  },
  "language_info": {
   "codemirror_mode": {
    "name": "ipython",
    "version": 2
   },
   "file_extension": ".py",
   "mimetype": "text/x-python",
   "name": "python",
   "nbconvert_exporter": "python",
   "pygments_lexer": "ipython2",
   "version": "2.7.6"
  }
 },
 "nbformat": 4,
 "nbformat_minor": 5
}
