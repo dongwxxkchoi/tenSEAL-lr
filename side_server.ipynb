{
 "cells": [
  {
   "cell_type": "code",
   "execution_count": 1,
   "outputs": [],
   "source": [
    "from time import time\n",
    "import numpy as np\n",
    "import tenseal as ts\n",
    "import torch\n",
    "import base64\n",
    "import os\n",
    "\n",
    "from tqdm import tqdm_notebook"
   ],
   "metadata": {
    "collapsed": false,
    "ExecuteTime": {
     "end_time": "2023-09-19T11:49:39.544992700Z",
     "start_time": "2023-09-19T11:49:38.400760100Z"
    }
   },
   "id": "21c332dbe79fc5ee"
  },
  {
   "cell_type": "code",
   "execution_count": 2,
   "outputs": [],
   "source": [
    "def write_data(file_name, file_content):\n",
    "    if type(file_content) == bytes:\n",
    "        file_content = base64.b64encode(file_content)\n",
    "        \n",
    "    with open(file_name, 'wb') as f:\n",
    "        f.write(file_content)\n",
    "\n",
    "def read_data(file_name):\n",
    "    with open(file_name, 'rb') as f:\n",
    "        file_content = f.read()\n",
    "    \n",
    "    return base64.b64decode(file_content)"
   ],
   "metadata": {
    "collapsed": false,
    "ExecuteTime": {
     "end_time": "2023-09-19T11:49:39.562974100Z",
     "start_time": "2023-09-19T11:49:39.552506600Z"
    }
   },
   "id": "b740880871e1f313"
  },
  {
   "cell_type": "code",
   "execution_count": 3,
   "outputs": [],
   "source": [
    "def load_enc_data(read_data):\n",
    "    context = ts.context_from(read_data(\"D:/data/server/public_context.txt\"))\n",
    "    \n",
    "    path_x = \"D:/data/server/enc_x/\"\n",
    "    file_list_x = os.listdir(path_x)\n",
    "\n",
    "    enc_x = []\n",
    "    for i, file in tqdm_notebook(enumerate(file_list_x)):\n",
    "        if i == 100:\n",
    "            break\n",
    "        temp = read_data(file_name=path_x + file)\n",
    "        temp = ts.lazy_ckks_vector_from(temp)\n",
    "        temp.link_context(context)\n",
    "        enc_x.append(temp)\n",
    "        \n",
    "    path_y = \"D:/data/server/enc_x/\"\n",
    "    file_list_y = os.listdir(path_y)\n",
    "    \n",
    "    enc_y = []\n",
    "    for i, file in tqdm_notebook(enumerate(file_list_y)):\n",
    "        if i == 100:\n",
    "            break\n",
    "        temp = ts.lazy_ckks_vector_from(read_data(file_name=path_y + file))\n",
    "        temp.link_context(context)\n",
    "        enc_y.append(temp)\n",
    "        \n",
    "    return context, enc_x, enc_y"
   ],
   "metadata": {
    "collapsed": false,
    "ExecuteTime": {
     "end_time": "2023-09-19T11:49:40.515875100Z",
     "start_time": "2023-09-19T11:49:40.489100300Z"
    }
   },
   "id": "fe51f0ca8a267a43"
  },
  {
   "cell_type": "code",
   "execution_count": 4,
   "outputs": [
    {
     "name": "stderr",
     "output_type": "stream",
     "text": [
      "C:\\Users\\dwcho\\anaconda3\\envs\\crypto\\lib\\site-packages\\ipykernel_launcher.py:8: TqdmDeprecationWarning: This function will be removed in tqdm==5.0.0\n",
      "Please use `tqdm.notebook.tqdm` instead of `tqdm.tqdm_notebook`\n",
      "  \n"
     ]
    },
    {
     "data": {
      "text/plain": "0it [00:00, ?it/s]",
      "application/vnd.jupyter.widget-view+json": {
       "version_major": 2,
       "version_minor": 0,
       "model_id": "d30ce36c8a65466a8a11fb0bf263eb8e"
      }
     },
     "metadata": {},
     "output_type": "display_data"
    },
    {
     "name": "stderr",
     "output_type": "stream",
     "text": [
      "C:\\Users\\dwcho\\anaconda3\\envs\\crypto\\lib\\site-packages\\ipykernel_launcher.py:20: TqdmDeprecationWarning: This function will be removed in tqdm==5.0.0\n",
      "Please use `tqdm.notebook.tqdm` instead of `tqdm.tqdm_notebook`\n"
     ]
    },
    {
     "data": {
      "text/plain": "0it [00:00, ?it/s]",
      "application/vnd.jupyter.widget-view+json": {
       "version_major": 2,
       "version_minor": 0,
       "model_id": "ce688cf4c8be4b6494bc00bca7f29f30"
      }
     },
     "metadata": {},
     "output_type": "display_data"
    }
   ],
   "source": [
    "context, enc_x, enc_y = load_enc_data(read_data)"
   ],
   "metadata": {
    "collapsed": false,
    "ExecuteTime": {
     "end_time": "2023-09-19T11:49:44.053524500Z",
     "start_time": "2023-09-19T11:49:40.941113300Z"
    }
   },
   "id": "a6dae5cbd1a6f96a"
  },
  {
   "cell_type": "code",
   "execution_count": 5,
   "outputs": [],
   "source": [
    "# To get initial weight and bias\n",
    "# You can also randomly initialize it\n",
    "# But it is comfortable to use torch to get (weight, bias) pair \n",
    "\n",
    "class LR(torch.nn.Module):\n",
    "    def __init__(self, n_features):\n",
    "        super(LR, self).__init__()\n",
    "        self.lr = torch.nn.Linear(n_features, 1)\n",
    "        \n",
    "    def forward(self, x):\n",
    "        out = torch.sigmoid(self.lr(x))\n",
    "        return out"
   ],
   "metadata": {
    "collapsed": false,
    "ExecuteTime": {
     "end_time": "2023-09-19T11:49:45.532706800Z",
     "start_time": "2023-09-19T11:49:45.524912400Z"
    }
   },
   "id": "d95b49dcb6b803f8"
  },
  {
   "cell_type": "code",
   "execution_count": 6,
   "outputs": [],
   "source": [
    "# Linear Regression Model that supports training\n",
    "# but several settings have to be set baiscally and tough\n",
    "\n",
    "class EncryptedLR:\n",
    "    def __init__(self, torch_lr):\n",
    "        # we have to change the shape: 1xN -> N\n",
    "        self.weight = torch_lr.lr.weight.data.tolist()[0]  \n",
    "        self.bias = torch_lr.lr.bias.data.tolist()\n",
    "        \n",
    "        self._delta_w = 0\n",
    "        self._delta_b = 0\n",
    "        self._count = 0\n",
    "\n",
    "    def forward(self, enc_x):\n",
    "        # forward propagation\n",
    "        enc_out = enc_x.dot(self.weight) + self.bias\n",
    "        enc_out = EncryptedLR.sigmoid(enc_out)\n",
    "        return enc_out\n",
    "    \n",
    "    def backward(self, enc_x, enc_out, enc_y):\n",
    "        # backward propagation\n",
    "        out_minus_y = (enc_out - enc_y)\n",
    "        self._delta_w += enc_x * out_minus_y\n",
    "        self._delta_b += out_minus_y\n",
    "        self._count += 1\n",
    "        \n",
    "    def update_parameters(self):\n",
    "        # optimizer\n",
    "        if self._count == 0:\n",
    "            raise RuntimeError(\"You should at least run one forward iteration\")\n",
    "\n",
    "        self.weight -= self._delta_w * (1 / self._count) + self.weight * 0.05  \n",
    "        # \"self.weight * 0.05\" means l2 regularization\n",
    "        # it helps keep value between [-5, 5] (sigmoid)\n",
    "        self.bias -= self._delta_b * (1 / self._count)\n",
    "        \n",
    "        self._delta_w = 0\n",
    "        self._delta_b = 0\n",
    "        # self._count = 0\n",
    "\n",
    "    @staticmethod\n",
    "    def sigmoid(enc_x):\n",
    "        # sigmoid function approximated between [-5, 5]\n",
    "        return enc_x.polyval([0.5, 0.197, 0, -0.004])\n",
    "\n",
    "    def plain_accuracy(self, x_test, y_test):\n",
    "        # accuracy for regression\n",
    "        w = torch.tensor(self.weight)\n",
    "        b = torch.tensor(self.bias)\n",
    "        out = torch.sigmoid(x_test.matmul(w) + b).reshape(-1, 1)\n",
    "        correct = torch.abs(y_test - out) < 0.5\n",
    "        # if the loss under 0.5 -> correct\n",
    "        return correct.float().mean()\n",
    "\n",
    "    def encrypt(self, context):\n",
    "        # encrypt the model before training\n",
    "        self.weight = ts.ckks_vector(context, self.weight)\n",
    "        self.bias = ts.ckks_vector(context, self.bias)\n",
    "\n",
    "    def decrypt(self, key):\n",
    "        # decrypt the model after training\n",
    "        self.weight = self.weight.decrypt(key)\n",
    "        self.bias = self.bias.decrypt(key)\n",
    "\n",
    "    def __call__(self, *args, **kwargs):\n",
    "        return self.forward(*args, **kwargs)"
   ],
   "metadata": {
    "collapsed": false,
    "ExecuteTime": {
     "end_time": "2023-09-19T11:49:49.376422500Z",
     "start_time": "2023-09-19T11:49:49.360776800Z"
    }
   },
   "id": "b7036930ad44af32"
  },
  {
   "cell_type": "code",
   "execution_count": 7,
   "outputs": [],
   "source": [
    "def train(\n",
    "    model, name: str, enc_x_train, enc_y_train\n",
    "):\n",
    "    print(f\"Training model: {name}\")\n",
    "    train_start = time()\n",
    "    for _, (enc_x, enc_y) in tqdm_notebook(enumerate(zip(enc_x_train, enc_y_train))):\n",
    "        enc_out = model.forward(enc_x)\n",
    "        model.backward(enc_x, enc_out, enc_y)\n",
    "            \n",
    "    model.update_parameters()\n",
    "    train_end = time()\n",
    "    print(f\"Training time is {train_end - train_start}\")\n",
    "          \n",
    "    return model"
   ],
   "metadata": {
    "collapsed": false,
    "ExecuteTime": {
     "end_time": "2023-09-19T11:49:49.976173800Z",
     "start_time": "2023-09-19T11:49:49.958016Z"
    }
   },
   "id": "initial_id"
  },
  {
   "cell_type": "code",
   "execution_count": 8,
   "outputs": [],
   "source": [
    "enc_LR = EncryptedLR(LR(enc_x[0].size()))\n",
    "enc_LR.encrypt(context)"
   ],
   "metadata": {
    "collapsed": false,
    "ExecuteTime": {
     "end_time": "2023-09-19T11:49:50.565639900Z",
     "start_time": "2023-09-19T11:49:50.528364400Z"
    }
   },
   "id": "ccb80407d6c032e8"
  },
  {
   "cell_type": "code",
   "execution_count": 9,
   "outputs": [
    {
     "name": "stdout",
     "output_type": "stream",
     "text": [
      "training: 1\n",
      "Training model: Logistic Regression\n"
     ]
    },
    {
     "name": "stderr",
     "output_type": "stream",
     "text": [
      "C:\\Users\\dwcho\\anaconda3\\envs\\crypto\\lib\\site-packages\\ipykernel_launcher.py:6: TqdmDeprecationWarning: This function will be removed in tqdm==5.0.0\n",
      "Please use `tqdm.notebook.tqdm` instead of `tqdm.tqdm_notebook`\n",
      "  \n"
     ]
    },
    {
     "data": {
      "text/plain": "0it [00:00, ?it/s]",
      "application/vnd.jupyter.widget-view+json": {
       "version_major": 2,
       "version_minor": 0,
       "model_id": "0303d47334be46538bb3faf2409f6881"
      }
     },
     "metadata": {},
     "output_type": "display_data"
    },
    {
     "ename": "ValueError",
     "evalue": "scale out of bounds",
     "output_type": "error",
     "traceback": [
      "\u001B[1;31m---------------------------------------------------------------------------\u001B[0m",
      "\u001B[1;31mValueError\u001B[0m                                Traceback (most recent call last)",
      "\u001B[1;32m~\\AppData\\Local\\Temp\\ipykernel_18444\\816834097.py\u001B[0m in \u001B[0;36m<module>\u001B[1;34m\u001B[0m\n\u001B[0;32m      3\u001B[0m \u001B[1;32mfor\u001B[0m \u001B[0mi\u001B[0m \u001B[1;32min\u001B[0m \u001B[0mrange\u001B[0m\u001B[1;33m(\u001B[0m\u001B[1;36m1\u001B[0m\u001B[1;33m,\u001B[0m \u001B[0mEPOCH\u001B[0m\u001B[1;33m+\u001B[0m\u001B[1;36m1\u001B[0m\u001B[1;33m)\u001B[0m\u001B[1;33m:\u001B[0m\u001B[1;33m\u001B[0m\u001B[1;33m\u001B[0m\u001B[0m\n\u001B[0;32m      4\u001B[0m     \u001B[0mprint\u001B[0m\u001B[1;33m(\u001B[0m\u001B[1;34mf\"training: {i}\"\u001B[0m\u001B[1;33m)\u001B[0m\u001B[1;33m\u001B[0m\u001B[1;33m\u001B[0m\u001B[0m\n\u001B[1;32m----> 5\u001B[1;33m     \u001B[0menc_LR\u001B[0m \u001B[1;33m=\u001B[0m \u001B[0mtrain\u001B[0m\u001B[1;33m(\u001B[0m\u001B[0mmodel\u001B[0m\u001B[1;33m=\u001B[0m\u001B[0menc_LR\u001B[0m\u001B[1;33m,\u001B[0m \u001B[0mname\u001B[0m\u001B[1;33m=\u001B[0m\u001B[1;34m\"Logistic Regression\"\u001B[0m\u001B[1;33m,\u001B[0m \u001B[0menc_x_train\u001B[0m\u001B[1;33m=\u001B[0m\u001B[0menc_x\u001B[0m\u001B[1;33m,\u001B[0m \u001B[0menc_y_train\u001B[0m\u001B[1;33m=\u001B[0m\u001B[0menc_y\u001B[0m\u001B[1;33m)\u001B[0m\u001B[1;33m\u001B[0m\u001B[1;33m\u001B[0m\u001B[0m\n\u001B[0m",
      "\u001B[1;32m~\\AppData\\Local\\Temp\\ipykernel_18444\\4274316371.py\u001B[0m in \u001B[0;36mtrain\u001B[1;34m(model, name, enc_x_train, enc_y_train)\u001B[0m\n\u001B[0;32m      5\u001B[0m     \u001B[0mtrain_start\u001B[0m \u001B[1;33m=\u001B[0m \u001B[0mtime\u001B[0m\u001B[1;33m(\u001B[0m\u001B[1;33m)\u001B[0m\u001B[1;33m\u001B[0m\u001B[1;33m\u001B[0m\u001B[0m\n\u001B[0;32m      6\u001B[0m     \u001B[1;32mfor\u001B[0m \u001B[0m_\u001B[0m\u001B[1;33m,\u001B[0m \u001B[1;33m(\u001B[0m\u001B[0menc_x\u001B[0m\u001B[1;33m,\u001B[0m \u001B[0menc_y\u001B[0m\u001B[1;33m)\u001B[0m \u001B[1;32min\u001B[0m \u001B[0mtqdm_notebook\u001B[0m\u001B[1;33m(\u001B[0m\u001B[0menumerate\u001B[0m\u001B[1;33m(\u001B[0m\u001B[0mzip\u001B[0m\u001B[1;33m(\u001B[0m\u001B[0menc_x_train\u001B[0m\u001B[1;33m,\u001B[0m \u001B[0menc_y_train\u001B[0m\u001B[1;33m)\u001B[0m\u001B[1;33m)\u001B[0m\u001B[1;33m)\u001B[0m\u001B[1;33m:\u001B[0m\u001B[1;33m\u001B[0m\u001B[1;33m\u001B[0m\u001B[0m\n\u001B[1;32m----> 7\u001B[1;33m         \u001B[0menc_out\u001B[0m \u001B[1;33m=\u001B[0m \u001B[0mmodel\u001B[0m\u001B[1;33m.\u001B[0m\u001B[0mforward\u001B[0m\u001B[1;33m(\u001B[0m\u001B[0menc_x\u001B[0m\u001B[1;33m)\u001B[0m\u001B[1;33m\u001B[0m\u001B[1;33m\u001B[0m\u001B[0m\n\u001B[0m\u001B[0;32m      8\u001B[0m         \u001B[0mmodel\u001B[0m\u001B[1;33m.\u001B[0m\u001B[0mbackward\u001B[0m\u001B[1;33m(\u001B[0m\u001B[0menc_x\u001B[0m\u001B[1;33m,\u001B[0m \u001B[0menc_out\u001B[0m\u001B[1;33m,\u001B[0m \u001B[0menc_y\u001B[0m\u001B[1;33m)\u001B[0m\u001B[1;33m\u001B[0m\u001B[1;33m\u001B[0m\u001B[0m\n\u001B[0;32m      9\u001B[0m \u001B[1;33m\u001B[0m\u001B[0m\n",
      "\u001B[1;32m~\\AppData\\Local\\Temp\\ipykernel_18444\\4037368573.py\u001B[0m in \u001B[0;36mforward\u001B[1;34m(self, enc_x)\u001B[0m\n\u001B[0;32m     15\u001B[0m         \u001B[1;31m# forward propagation\u001B[0m\u001B[1;33m\u001B[0m\u001B[1;33m\u001B[0m\u001B[1;33m\u001B[0m\u001B[0m\n\u001B[0;32m     16\u001B[0m         \u001B[0menc_out\u001B[0m \u001B[1;33m=\u001B[0m \u001B[0menc_x\u001B[0m\u001B[1;33m.\u001B[0m\u001B[0mdot\u001B[0m\u001B[1;33m(\u001B[0m\u001B[0mself\u001B[0m\u001B[1;33m.\u001B[0m\u001B[0mweight\u001B[0m\u001B[1;33m)\u001B[0m \u001B[1;33m+\u001B[0m \u001B[0mself\u001B[0m\u001B[1;33m.\u001B[0m\u001B[0mbias\u001B[0m\u001B[1;33m\u001B[0m\u001B[1;33m\u001B[0m\u001B[0m\n\u001B[1;32m---> 17\u001B[1;33m         \u001B[0menc_out\u001B[0m \u001B[1;33m=\u001B[0m \u001B[0mEncryptedLR\u001B[0m\u001B[1;33m.\u001B[0m\u001B[0msigmoid\u001B[0m\u001B[1;33m(\u001B[0m\u001B[0menc_out\u001B[0m\u001B[1;33m)\u001B[0m\u001B[1;33m\u001B[0m\u001B[1;33m\u001B[0m\u001B[0m\n\u001B[0m\u001B[0;32m     18\u001B[0m         \u001B[1;32mreturn\u001B[0m \u001B[0menc_out\u001B[0m\u001B[1;33m\u001B[0m\u001B[1;33m\u001B[0m\u001B[0m\n\u001B[0;32m     19\u001B[0m \u001B[1;33m\u001B[0m\u001B[0m\n",
      "\u001B[1;32m~\\AppData\\Local\\Temp\\ipykernel_18444\\4037368573.py\u001B[0m in \u001B[0;36msigmoid\u001B[1;34m(enc_x)\u001B[0m\n\u001B[0;32m     42\u001B[0m     \u001B[1;32mdef\u001B[0m \u001B[0msigmoid\u001B[0m\u001B[1;33m(\u001B[0m\u001B[0menc_x\u001B[0m\u001B[1;33m)\u001B[0m\u001B[1;33m:\u001B[0m\u001B[1;33m\u001B[0m\u001B[1;33m\u001B[0m\u001B[0m\n\u001B[0;32m     43\u001B[0m         \u001B[1;31m# sigmoid function approximated between [-5, 5]\u001B[0m\u001B[1;33m\u001B[0m\u001B[1;33m\u001B[0m\u001B[1;33m\u001B[0m\u001B[0m\n\u001B[1;32m---> 44\u001B[1;33m         \u001B[1;32mreturn\u001B[0m \u001B[0menc_x\u001B[0m\u001B[1;33m.\u001B[0m\u001B[0mpolyval\u001B[0m\u001B[1;33m(\u001B[0m\u001B[1;33m[\u001B[0m\u001B[1;36m0.5\u001B[0m\u001B[1;33m,\u001B[0m \u001B[1;36m0.197\u001B[0m\u001B[1;33m,\u001B[0m \u001B[1;36m0\u001B[0m\u001B[1;33m,\u001B[0m \u001B[1;33m-\u001B[0m\u001B[1;36m0.004\u001B[0m\u001B[1;33m]\u001B[0m\u001B[1;33m)\u001B[0m\u001B[1;33m\u001B[0m\u001B[1;33m\u001B[0m\u001B[0m\n\u001B[0m\u001B[0;32m     45\u001B[0m \u001B[1;33m\u001B[0m\u001B[0m\n\u001B[0;32m     46\u001B[0m     \u001B[1;32mdef\u001B[0m \u001B[0mplain_accuracy\u001B[0m\u001B[1;33m(\u001B[0m\u001B[0mself\u001B[0m\u001B[1;33m,\u001B[0m \u001B[0mx_test\u001B[0m\u001B[1;33m,\u001B[0m \u001B[0my_test\u001B[0m\u001B[1;33m)\u001B[0m\u001B[1;33m:\u001B[0m\u001B[1;33m\u001B[0m\u001B[1;33m\u001B[0m\u001B[0m\n",
      "\u001B[1;32m~\\anaconda3\\envs\\crypto\\lib\\site-packages\\tenseal\\tensors\\abstract_tensor.py\u001B[0m in \u001B[0;36mpolyval\u001B[1;34m(self, coefficients)\u001B[0m\n\u001B[0;32m    175\u001B[0m         \u001B[0;31m`\u001B[0m\u001B[0mcoefficients\u001B[0m\u001B[1;33m[\u001B[0m\u001B[1;36m0\u001B[0m\u001B[1;33m]\u001B[0m \u001B[1;33m+\u001B[0m \u001B[0mcoefficients\u001B[0m\u001B[1;33m[\u001B[0m\u001B[1;36m1\u001B[0m\u001B[1;33m]\u001B[0m \u001B[1;33m*\u001B[0m \u001B[0mself\u001B[0m \u001B[1;33m+\u001B[0m \u001B[1;33m...\u001B[0m\u001B[1;33m.\u001B[0m \u001B[0mcoefficients\u001B[0m\u001B[1;33m[\u001B[0m\u001B[0mn\u001B[0m\u001B[1;33m]\u001B[0m \u001B[1;33m*\u001B[0m \u001B[0mself\u001B[0m \u001B[1;33m^\u001B[0m \u001B[0mn\u001B[0m\u001B[0;31m`\u001B[0m\u001B[1;33m\u001B[0m\u001B[1;33m\u001B[0m\u001B[0m\n\u001B[0;32m    176\u001B[0m         \"\"\"\n\u001B[1;32m--> 177\u001B[1;33m         \u001B[1;32mreturn\u001B[0m \u001B[0mself\u001B[0m\u001B[1;33m.\u001B[0m\u001B[0m_wrap\u001B[0m\u001B[1;33m(\u001B[0m\u001B[0mself\u001B[0m\u001B[1;33m.\u001B[0m\u001B[0mdata\u001B[0m\u001B[1;33m.\u001B[0m\u001B[0mpolyval\u001B[0m\u001B[1;33m(\u001B[0m\u001B[0mcoefficients\u001B[0m\u001B[1;33m)\u001B[0m\u001B[1;33m)\u001B[0m\u001B[1;33m\u001B[0m\u001B[1;33m\u001B[0m\u001B[0m\n\u001B[0m\u001B[0;32m    178\u001B[0m \u001B[1;33m\u001B[0m\u001B[0m\n\u001B[0;32m    179\u001B[0m     \u001B[1;32mdef\u001B[0m \u001B[0mpolyval_\u001B[0m\u001B[1;33m(\u001B[0m\u001B[0mself\u001B[0m\u001B[1;33m,\u001B[0m \u001B[0mcoefficients\u001B[0m\u001B[1;33m:\u001B[0m \u001B[0mUnion\u001B[0m\u001B[1;33m[\u001B[0m\u001B[0mList\u001B[0m\u001B[1;33m[\u001B[0m\u001B[0mfloat\u001B[0m\u001B[1;33m]\u001B[0m\u001B[1;33m,\u001B[0m \u001B[0mList\u001B[0m\u001B[1;33m[\u001B[0m\u001B[0mint\u001B[0m\u001B[1;33m]\u001B[0m\u001B[1;33m]\u001B[0m\u001B[1;33m)\u001B[0m \u001B[1;33m->\u001B[0m \u001B[1;34m\"AbstractTensor\"\u001B[0m\u001B[1;33m:\u001B[0m\u001B[1;33m\u001B[0m\u001B[1;33m\u001B[0m\u001B[0m\n",
      "\u001B[1;31mValueError\u001B[0m: scale out of bounds"
     ]
    }
   ],
   "source": [
    "EPOCH = 5\n",
    "\n",
    "for i in range(1, EPOCH+1):\n",
    "    print(f\"training: {i}\")\n",
    "    enc_LR = train(model=enc_LR, name=\"Logistic Regression\", enc_x_train=enc_x, enc_y_train=enc_y)"
   ],
   "metadata": {
    "collapsed": false,
    "ExecuteTime": {
     "end_time": "2023-09-19T11:49:51.344293400Z",
     "start_time": "2023-09-19T11:49:51.166867Z"
    }
   },
   "id": "5389327b0cca0d86"
  },
  {
   "cell_type": "code",
   "execution_count": null,
   "outputs": [],
   "source": [],
   "metadata": {
    "collapsed": false
   },
   "id": "41d1fec7ce91abad"
  }
 ],
 "metadata": {
  "kernelspec": {
   "display_name": "Python 3",
   "language": "python",
   "name": "python3"
  },
  "language_info": {
   "codemirror_mode": {
    "name": "ipython",
    "version": 2
   },
   "file_extension": ".py",
   "mimetype": "text/x-python",
   "name": "python",
   "nbconvert_exporter": "python",
   "pygments_lexer": "ipython2",
   "version": "2.7.6"
  }
 },
 "nbformat": 4,
 "nbformat_minor": 5
}
