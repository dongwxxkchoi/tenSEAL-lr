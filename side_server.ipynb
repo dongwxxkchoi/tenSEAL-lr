{
 "cells": [
  {
   "cell_type": "code",
   "execution_count": 1,
   "outputs": [],
   "source": [
    "from time import time\n",
    "import numpy as np\n",
    "import tenseal as ts\n",
    "import torch\n",
    "import base64\n",
    "import os\n",
    "import copy\n",
    "\n",
    "from tqdm import tqdm_notebook"
   ],
   "metadata": {
    "collapsed": false,
    "ExecuteTime": {
     "end_time": "2023-09-20T08:42:27.448935400Z",
     "start_time": "2023-09-20T08:42:26.911468400Z"
    }
   },
   "id": "21c332dbe79fc5ee"
  },
  {
   "cell_type": "code",
   "execution_count": 2,
   "outputs": [],
   "source": [
    "def write_data(file_name, file_content):\n",
    "    if type(file_content) == bytes:\n",
    "        file_content = base64.b64encode(file_content)\n",
    "        \n",
    "    with open(file_name, 'wb') as f:\n",
    "        f.write(file_content)\n",
    "\n",
    "def read_data(file_name):\n",
    "    with open(file_name, 'rb') as f:\n",
    "        file_content = f.read()\n",
    "    \n",
    "    return base64.b64decode(file_content)"
   ],
   "metadata": {
    "collapsed": false,
    "ExecuteTime": {
     "end_time": "2023-09-20T08:42:28.249362200Z",
     "start_time": "2023-09-20T08:42:28.244563400Z"
    }
   },
   "id": "b740880871e1f313"
  },
  {
   "cell_type": "code",
   "execution_count": 3,
   "outputs": [],
   "source": [
    "def load_enc_data(read_data):\n",
    "    context = ts.context_from(read_data(\"D:/data/server/public_context.txt\"))\n",
    "    \n",
    "    path_x = \"D:/data/server/enc_x/\"\n",
    "    file_list_x = os.listdir(path_x)\n",
    "\n",
    "    enc_x = []\n",
    "    for i, file in tqdm_notebook(enumerate(file_list_x)):\n",
    "        temp = read_data(file_name=path_x + file)\n",
    "        temp = ts.lazy_ckks_vector_from(temp)\n",
    "        temp.link_context(context)\n",
    "        enc_x.append(temp)\n",
    "        \n",
    "    path_y = \"D:/data/server/enc_x/\"\n",
    "    file_list_y = os.listdir(path_y)\n",
    "    \n",
    "    enc_y = []\n",
    "    for i, file in tqdm_notebook(enumerate(file_list_y)):\n",
    "        temp = ts.lazy_ckks_vector_from(read_data(file_name=path_y + file))\n",
    "        temp.link_context(context)\n",
    "        enc_y.append(temp)\n",
    "        \n",
    "    return context, enc_x, enc_y"
   ],
   "metadata": {
    "collapsed": false,
    "ExecuteTime": {
     "end_time": "2023-09-20T08:42:29.170335900Z",
     "start_time": "2023-09-20T08:42:29.154649400Z"
    }
   },
   "id": "fe51f0ca8a267a43"
  },
  {
   "cell_type": "code",
   "execution_count": 4,
   "outputs": [
    {
     "name": "stderr",
     "output_type": "stream",
     "text": [
      "C:\\Users\\dwcho\\anaconda3\\envs\\crypto\\lib\\site-packages\\ipykernel_launcher.py:8: TqdmDeprecationWarning: This function will be removed in tqdm==5.0.0\n",
      "Please use `tqdm.notebook.tqdm` instead of `tqdm.tqdm_notebook`\n",
      "  \n"
     ]
    },
    {
     "data": {
      "text/plain": "0it [00:00, ?it/s]",
      "application/vnd.jupyter.widget-view+json": {
       "version_major": 2,
       "version_minor": 0,
       "model_id": "53db3206a66c4ba6ae7997eb0418fe69"
      }
     },
     "metadata": {},
     "output_type": "display_data"
    },
    {
     "name": "stderr",
     "output_type": "stream",
     "text": [
      "C:\\Users\\dwcho\\anaconda3\\envs\\crypto\\lib\\site-packages\\ipykernel_launcher.py:18: TqdmDeprecationWarning: This function will be removed in tqdm==5.0.0\n",
      "Please use `tqdm.notebook.tqdm` instead of `tqdm.tqdm_notebook`\n"
     ]
    },
    {
     "data": {
      "text/plain": "0it [00:00, ?it/s]",
      "application/vnd.jupyter.widget-view+json": {
       "version_major": 2,
       "version_minor": 0,
       "model_id": "204663d860194c9db3fbe764493d7df2"
      }
     },
     "metadata": {},
     "output_type": "display_data"
    }
   ],
   "source": [
    "context, enc_x, enc_y = load_enc_data(read_data)"
   ],
   "metadata": {
    "collapsed": false,
    "ExecuteTime": {
     "end_time": "2023-09-20T08:43:11.635418700Z",
     "start_time": "2023-09-20T08:42:29.981698600Z"
    }
   },
   "id": "a6dae5cbd1a6f96a"
  },
  {
   "cell_type": "code",
   "execution_count": 5,
   "outputs": [],
   "source": [
    "# To get initial weight and bias\n",
    "# You can also randomly initialize it\n",
    "# But it is comfortable to use torch to get (weight, bias) pair \n",
    "\n",
    "class LR(torch.nn.Module):\n",
    "    def __init__(self, n_features):\n",
    "        super(LR, self).__init__()\n",
    "        self.lr = torch.nn.Linear(n_features, 1)\n",
    "        \n",
    "    def forward(self, x):\n",
    "        out = torch.sigmoid(self.lr(x))\n",
    "        return out"
   ],
   "metadata": {
    "collapsed": false,
    "ExecuteTime": {
     "end_time": "2023-09-20T08:43:56.246921700Z",
     "start_time": "2023-09-20T08:43:56.215203Z"
    }
   },
   "id": "d95b49dcb6b803f8"
  },
  {
   "cell_type": "code",
   "execution_count": 6,
   "outputs": [],
   "source": [
    "# Linear Regression Model that supports training\n",
    "# but several settings have to be set baiscally and tough\n",
    "\n",
    "class EncryptedLR:\n",
    "    def __init__(self, torch_lr):\n",
    "        # we have to change the shape: 1xN -> N\n",
    "        self.weight = torch_lr.lr.weight.data.double().tolist()[0]  \n",
    "        self.bias = torch_lr.lr.bias.data.double().tolist()\n",
    "        \n",
    "        self._delta_w = 0\n",
    "        self._delta_b = 0\n",
    "        self._count = 0\n",
    "\n",
    "    def forward(self, enc_x):\n",
    "        # forward propagation\n",
    "        enc_out = enc_x.dot(self.weight) + self.bias\n",
    "        enc_out = EncryptedLR.sigmoid(enc_out)\n",
    "        \n",
    "        return enc_out\n",
    "    \n",
    "    def backward(self, enc_x, enc_out, enc_y):\n",
    "        # backward propagation\n",
    "        out_minus_y = (enc_out - enc_y)\n",
    "        self._delta_w += enc_x * out_minus_y\n",
    "        self._delta_b += out_minus_y.sum()\n",
    "        self._count += 1\n",
    "        \n",
    "    def update_parameters(self):\n",
    "        # optimizer\n",
    "        if self._count == 0:\n",
    "            raise RuntimeError(\"You should at least run one forward iteration\")\n",
    "        \n",
    "        self.weight -= self._delta_w * (1 / self._count) + self.weight * 0.05\n",
    "        # \"self.weight * 0.05\" means l2 regularization\n",
    "        # it helps keep value between [-5, 5] (sigmoid)\n",
    "        self.bias = self.bias - self._delta_b * (1 / self._count)\n",
    "        \n",
    "        self._delta_w = 0\n",
    "        self._delta_b = 0\n",
    "        self._count = 0\n",
    "\n",
    "    @staticmethod\n",
    "    def sigmoid(enc_x):\n",
    "        # sigmoid function approximated between [-5, 5]\n",
    "        return enc_x.polyval([0.5, 0.197, 0, -0.004])\n",
    "\n",
    "    def plain_accuracy(self, x_test, y_test):\n",
    "        # accuracy for regression\n",
    "        w = torch.tensor(self.weight)\n",
    "        b = torch.tensor(self.bias)\n",
    "        out = torch.sigmoid(x_test.matmul(w) + b).reshape(-1, 1)\n",
    "        correct = torch.abs(y_test - out) < 0.5\n",
    "        # if the loss under 0.5 -> correct\n",
    "        return correct.float().mean()\n",
    "\n",
    "    def encrypt(self, context):\n",
    "        # encrypt the model before training\n",
    "        self.weight = ts.ckks_vector(context, self.weight)\n",
    "        self.bias = ts.ckks_vector(context, self.bias)\n",
    "\n",
    "    def decrypt(self, key):\n",
    "        # decrypt the model after training\n",
    "        self.weight = self.weight.decrypt(key)\n",
    "        self.bias = self.bias.decrypt(key)\n",
    "\n",
    "    def __call__(self, *args, **kwargs):\n",
    "        return self.forward(*args, **kwargs)"
   ],
   "metadata": {
    "collapsed": false,
    "ExecuteTime": {
     "end_time": "2023-09-20T08:43:57.231658300Z",
     "start_time": "2023-09-20T08:43:57.201008900Z"
    }
   },
   "id": "b7036930ad44af32"
  },
  {
   "cell_type": "code",
   "execution_count": 7,
   "outputs": [],
   "source": [
    "def train(\n",
    "    model, name: str, enc_x_train, enc_y_train\n",
    "):\n",
    "    print(f\"Training model: {name}\")\n",
    "    train_start = time()\n",
    "    for _, (enc_x, enc_y) in tqdm_notebook(enumerate(zip(enc_x_train, enc_y_train))):\n",
    "        enc_out = model.forward(enc_x)\n",
    "        model.backward(enc_x, enc_out, enc_y)\n",
    "    \n",
    "    model.update_parameters()\n",
    "    train_end = time()\n",
    "    print(f\"Training time is {train_end - train_start}\")\n",
    "    \n",
    "          \n",
    "    return model"
   ],
   "metadata": {
    "collapsed": false,
    "ExecuteTime": {
     "end_time": "2023-09-20T08:43:57.825802600Z",
     "start_time": "2023-09-20T08:43:57.808392600Z"
    }
   },
   "id": "initial_id"
  },
  {
   "cell_type": "code",
   "execution_count": 8,
   "outputs": [],
   "source": [
    "enc_LR = EncryptedLR(LR(enc_x[0].size()))\n",
    "enc_LR.encrypt(context)"
   ],
   "metadata": {
    "collapsed": false,
    "ExecuteTime": {
     "end_time": "2023-09-20T08:43:58.536518Z",
     "start_time": "2023-09-20T08:43:58.506537800Z"
    }
   },
   "id": "ccb80407d6c032e8"
  },
  {
   "cell_type": "code",
   "execution_count": 9,
   "outputs": [
    {
     "name": "stdout",
     "output_type": "stream",
     "text": [
      "Training model: Logistic Regression\n"
     ]
    },
    {
     "name": "stderr",
     "output_type": "stream",
     "text": [
      "C:\\Users\\dwcho\\anaconda3\\envs\\crypto\\lib\\site-packages\\ipykernel_launcher.py:6: TqdmDeprecationWarning: This function will be removed in tqdm==5.0.0\n",
      "Please use `tqdm.notebook.tqdm` instead of `tqdm.tqdm_notebook`\n",
      "  \n"
     ]
    },
    {
     "data": {
      "text/plain": "0it [00:00, ?it/s]",
      "application/vnd.jupyter.widget-view+json": {
       "version_major": 2,
       "version_minor": 0,
       "model_id": "47e208ec7a09414c8df712b4f5c1d5b3"
      }
     },
     "metadata": {},
     "output_type": "display_data"
    },
    {
     "name": "stdout",
     "output_type": "stream",
     "text": [
      "Training time is 367.52247381210327\n"
     ]
    }
   ],
   "source": [
    "enc_LR = train(model=enc_LR, name=\"Logistic Regression\", enc_x_train=enc_x, enc_y_train=enc_y)\n",
    "\n",
    "write_data(file_name = \"D:/data/customer/weight.txt\", \n",
    "           file_content = enc_LR.weight.serialize())\n",
    "write_data(file_name = \"D:/data/customer/bias.txt\", \n",
    "           file_content = enc_LR.bias.serialize())"
   ],
   "metadata": {
    "collapsed": false,
    "ExecuteTime": {
     "end_time": "2023-09-20T08:50:06.663356700Z",
     "start_time": "2023-09-20T08:43:59.130998200Z"
    }
   },
   "id": "5389327b0cca0d86"
  },
  {
   "cell_type": "markdown",
   "source": [
    "### Send data to Customer (this case: weight and bias)"
   ],
   "metadata": {
    "collapsed": false
   },
   "id": "e9156e11526b1600"
  },
  {
   "cell_type": "code",
   "execution_count": null,
   "outputs": [],
   "source": [],
   "metadata": {
    "collapsed": false
   },
   "id": "dc230dd3456aa85f"
  }
 ],
 "metadata": {
  "kernelspec": {
   "display_name": "Python 3",
   "language": "python",
   "name": "python3"
  },
  "language_info": {
   "codemirror_mode": {
    "name": "ipython",
    "version": 2
   },
   "file_extension": ".py",
   "mimetype": "text/x-python",
   "name": "python",
   "nbconvert_exporter": "python",
   "pygments_lexer": "ipython2",
   "version": "2.7.6"
  }
 },
 "nbformat": 4,
 "nbformat_minor": 5
}
